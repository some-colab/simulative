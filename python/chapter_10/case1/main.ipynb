{
 "cells": [
  {
   "cell_type": "code",
   "execution_count": 18,
   "metadata": {},
   "outputs": [],
   "source": [
    "import os\n",
    "import re\n",
    "import glob\n",
    "import csv"
   ]
  },
  {
   "cell_type": "code",
   "execution_count": 20,
   "metadata": {},
   "outputs": [],
   "source": [
    "def is_sublist(lst, sub):\n",
    "    sub_len = len(sub)\n",
    "    for i in range(len(lst) - sub_len + 1):\n",
    "        if lst[i:i+sub_len] == sub:\n",
    "            return i\n",
    "    return -1"
   ]
  },
  {
   "cell_type": "code",
   "execution_count": 21,
   "metadata": {},
   "outputs": [],
   "source": [
    "def process_files(source_dir, destination_dir):\n",
    "\n",
    "    if not os.path.exists(destination_dir):\n",
    "        os.makedirs(destination_dir)\n",
    "\n",
    "    # фильтр\n",
    "    pattern = re.compile(r'^\\d{4}-\\d{2}-\\d{2}-\\d{2}-\\d{2}-\\d+\\.csv$')\n",
    "    \n",
    "    all_files = glob.glob(os.path.join(source_dir, '*'))\n",
    "    csv_files = [file for file in all_files if pattern.match(os.path.basename(file))]\n",
    "    \n",
    "    if not csv_files:\n",
    "        print(\"Не найдено файлов, по заданному шаблону.\")\n",
    "        return\n",
    "    \n",
    "    # Сортируем (не понятно: надо - не надо)\n",
    "    csv_files.sort()\n",
    "    \n",
    "    # Путь к результирующему файлу\n",
    "    combined_file_path = os.path.join(destination_dir, 'combined_data.csv')\n",
    "    \n",
    "    header_written = False\n",
    "    header_init = []\n",
    "    output_list = []\n",
    "\n",
    "    for file in csv_files:\n",
    "        with open(file, 'r', encoding='utf-8') as csvfile:\n",
    "            reader = csv.reader(csvfile, delimiter=';')\n",
    "            header = next(reader)\n",
    "            sublist_index = 0\n",
    "\n",
    "            if not header_written:\n",
    "                output_list.append(header)\n",
    "                header_written = True\n",
    "                header_init = list(header)\n",
    "            else:\n",
    "                sublist_index = is_sublist(header, header_init)\n",
    "                if sublist_index < 0:\n",
    "                    continue\n",
    "            \n",
    "            for row in reader:\n",
    "                output_list.append(row[sublist_index:])\n",
    "                    \n",
    "    with open(combined_file_path, 'w', encoding='utf-8', newline='') as outfile:\n",
    "        writer = csv.writer(outfile, delimiter=',', quotechar='\"')\n",
    "        for row in output_list:\n",
    "            writer.writerow(row)\n",
    "\n",
    "\n",
    "src_folder = 'reports-main'\n",
    "dest_folder = 'comb_reports'\n",
    "process_files(src_folder, dest_folder)"
   ]
  },
  {
   "cell_type": "code",
   "execution_count": 23,
   "metadata": {},
   "outputs": [
    {
     "name": "stdout",
     "output_type": "stream",
     "text": [
      "Поздравляем, Вы справились и успешно прошли все проверки!\n"
     ]
    }
   ],
   "source": [
    "try:\n",
    "  assert (user_answer == correct_answer).all().all(), 'Ответы не совпадают'\n",
    "  assert user_answer.columns.equals(correct_answer.columns), 'Названия столбцов не совпадают'\n",
    "except Exception as err:\n",
    "  raise AssertionError(f'При проверке возникла ошибка {repr(err)}')\n",
    "else:\n",
    "  print('Поздравляем, Вы справились и успешно прошли все проверки!')"
   ]
  }
 ],
 "metadata": {
  "kernelspec": {
   "display_name": "stud",
   "language": "python",
   "name": "python3"
  },
  "language_info": {
   "codemirror_mode": {
    "name": "ipython",
    "version": 3
   },
   "file_extension": ".py",
   "mimetype": "text/x-python",
   "name": "python",
   "nbconvert_exporter": "python",
   "pygments_lexer": "ipython3",
   "version": "3.11.11"
  }
 },
 "nbformat": 4,
 "nbformat_minor": 2
}
