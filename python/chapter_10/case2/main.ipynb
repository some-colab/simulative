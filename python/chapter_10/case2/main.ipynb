{
 "cells": [
  {
   "cell_type": "code",
   "execution_count": 91,
   "metadata": {},
   "outputs": [
    {
     "name": "stderr",
     "output_type": "stream",
     "text": [
      "--2025-02-10 23:49:19--  https://gist.github.com/Vs8th/d0bd4bdbbb58c8ae4f70a2a503e2d5fc/raw/creds.json\n",
      "Resolving gist.github.com (gist.github.com)... 140.82.121.3\n",
      "Connecting to gist.github.com (gist.github.com)|140.82.121.3|:443... connected.\n",
      "HTTP request sent, awaiting response... 301 Moved Permanently\n",
      "Location: https://gist.githubusercontent.com/Vs8th/d0bd4bdbbb58c8ae4f70a2a503e2d5fc/raw/creds.json [following]\n",
      "--2025-02-10 23:49:19--  https://gist.githubusercontent.com/Vs8th/d0bd4bdbbb58c8ae4f70a2a503e2d5fc/raw/creds.json\n",
      "Resolving gist.githubusercontent.com (gist.githubusercontent.com)... 185.199.108.133, 185.199.110.133, 185.199.111.133, ...\n",
      "Connecting to gist.githubusercontent.com (gist.githubusercontent.com)|185.199.108.133|:443... connected.\n",
      "HTTP request sent, awaiting response... 200 OK\n",
      "Length: 2358 (2.3K) [text/plain]\n",
      "Saving to: 'creds.json'\n",
      "\n",
      "     0K ..                                                    100% 15.2M=0s\n",
      "\n",
      "2025-02-10 23:49:20 (15.2 MB/s) - 'creds.json' saved [2358/2358]\n",
      "\n"
     ]
    }
   ],
   "source": [
    "!wget https://gist.github.com/Vs8th/d0bd4bdbbb58c8ae4f70a2a503e2d5fc/raw/creds.json"
   ]
  },
  {
   "cell_type": "code",
   "execution_count": 92,
   "metadata": {},
   "outputs": [],
   "source": [
    "import gspread\n",
    "from oauth2client.service_account import ServiceAccountCredentials\n",
    "\n",
    "scope = ['https://www.googleapis.com/auth/spreadsheets.readonly',\n",
    "         'https://www.googleapis.com/auth/drive']\n",
    "creds = ServiceAccountCredentials.from_json_keyfile_name('creds.json', scope)\n",
    "client = gspread.authorize(creds)"
   ]
  },
  {
   "cell_type": "code",
   "execution_count": 93,
   "metadata": {},
   "outputs": [],
   "source": [
    "installments = client.open(\"Installments\")\n",
    "sheet1_data = installments.worksheet(\"Лист1\").get_all_records()\n",
    "sheet2_data = installments.worksheet(\"Лист2\").get_all_records()\n",
    "sheet3_data = installments.worksheet(\"Лист3\").get_all_records()"
   ]
  },
  {
   "cell_type": "code",
   "execution_count": 94,
   "metadata": {},
   "outputs": [],
   "source": [
    "import datetime\n",
    "\n",
    "until_date = datetime.datetime(2023, 3, 1).date()\n",
    "\n",
    "filtered_studens = {\n",
    "    int(el['student_id']): el['student_name']\n",
    "    for el in sheet1_data\n",
    "    if el['installment'] == 'Y'\n",
    "}\n",
    "\n",
    "filtered_dates = {\n",
    "        int(el['student_id']): \n",
    "        int((until_date.toordinal() - datetime.datetime.strptime(str(el['last_payment_date']), '%d.%m.%Y').date().toordinal()) / 182)\n",
    "    for el in sheet2_data\n",
    "    if datetime.datetime.strptime(str(el['expected_payment_date']), '%d.%m.%Y').date() < until_date\n",
    "}\n",
    "\n",
    "filtered_payments = {\n",
    "    int(el['student_id']): (int(el['one-time_payment']), int(el['left_to_pay']))\n",
    "    for el in sheet3_data\n",
    "}\n",
    "\n",
    "with open('student_debt_report.txt', 'w', encoding='utf-8') as f:        \n",
    "    for student_id, period in filtered_dates.items():\n",
    "        amount = min(filtered_payments[student_id][0] * period, filtered_payments[student_id][1])\n",
    "        f.write(f'Студент {filtered_studens[student_id]} - долг {amount} рублей\\n')\n"
   ]
  },
  {
   "cell_type": "code",
   "execution_count": 95,
   "metadata": {},
   "outputs": [
    {
     "name": "stderr",
     "output_type": "stream",
     "text": [
      "--2025-02-10 23:49:26--  https://gist.github.com/Vs8th/63832f093f4db8d8b251ba5d39571f3d/raw/student_debt.txt\n",
      "Resolving gist.github.com (gist.github.com)... 140.82.121.3\n",
      "Connecting to gist.github.com (gist.github.com)|140.82.121.3|:443... connected.\n",
      "HTTP request sent, awaiting response... 301 Moved Permanently\n",
      "Location: https://gist.githubusercontent.com/Vs8th/63832f093f4db8d8b251ba5d39571f3d/raw/student_debt.txt [following]\n",
      "--2025-02-10 23:49:26--  https://gist.githubusercontent.com/Vs8th/63832f093f4db8d8b251ba5d39571f3d/raw/student_debt.txt\n",
      "Resolving gist.githubusercontent.com (gist.githubusercontent.com)... 185.199.108.133, 185.199.110.133, 185.199.111.133, ...\n",
      "Connecting to gist.githubusercontent.com (gist.githubusercontent.com)|185.199.108.133|:443... connected.\n",
      "HTTP request sent, awaiting response... 200 OK\n",
      "Length: 11325 (11K) [text/plain]\n",
      "Saving to: 'student_debt.txt'\n",
      "\n",
      "     0K .......... .                                          100% 11.4M=0.001s\n",
      "\n",
      "2025-02-10 23:49:26 (11.4 MB/s) - 'student_debt.txt' saved [11325/11325]\n",
      "\n"
     ]
    }
   ],
   "source": [
    "!wget https://gist.github.com/Vs8th/63832f093f4db8d8b251ba5d39571f3d/raw/student_debt.txt\n",
    "\n",
    "import pandas as pd\n",
    "\n",
    "user_answer = pd.read_csv('student_debt_report.txt')\n",
    "correct_answer = pd.read_csv('student_debt.txt')"
   ]
  },
  {
   "cell_type": "code",
   "execution_count": 96,
   "metadata": {},
   "outputs": [
    {
     "name": "stdout",
     "output_type": "stream",
     "text": [
      "Поздравляем, Вы справились и успешно прошли все проверки!!\n"
     ]
    }
   ],
   "source": [
    "try:\n",
    "  assert (user_answer == correct_answer).all().all(), 'Ответы не совпадают'\n",
    "  assert user_answer.columns.equals(correct_answer.columns), 'Названия столбцов не совпадают'\n",
    "except Exception as err:\n",
    "  raise AssertionError(f'При проверке возникла ошибка {repr(err)}')\n",
    "else:\n",
    "  print('Поздравляем, Вы справились и успешно прошли все проверки!!')"
   ]
  }
 ],
 "metadata": {
  "kernelspec": {
   "display_name": "stud",
   "language": "python",
   "name": "python3"
  },
  "language_info": {
   "codemirror_mode": {
    "name": "ipython",
    "version": 3
   },
   "file_extension": ".py",
   "mimetype": "text/x-python",
   "name": "python",
   "nbconvert_exporter": "python",
   "pygments_lexer": "ipython3",
   "version": "3.11.11"
  }
 },
 "nbformat": 4,
 "nbformat_minor": 2
}
