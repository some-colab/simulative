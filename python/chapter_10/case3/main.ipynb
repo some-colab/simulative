{
 "cells": [
  {
   "cell_type": "markdown",
   "metadata": {},
   "source": [
    "### ❗❗❗ Обязательно к первоочердному выполнению ❗❗❗"
   ]
  },
  {
   "cell_type": "code",
   "execution_count": 185,
   "metadata": {},
   "outputs": [
    {
     "name": "stderr",
     "output_type": "stream",
     "text": [
      "--2025-02-12 03:14:54--  https://gist.github.com/Vs8th/739269a03f2f4a7396d04d6739da3771/raw/registrations.csv\n",
      "Resolving gist.github.com (gist.github.com)... 140.82.121.3\n",
      "Connecting to gist.github.com (gist.github.com)|140.82.121.3|:443... connected.\n",
      "HTTP request sent, awaiting response... 301 Moved Permanently\n",
      "Location: https://gist.githubusercontent.com/Vs8th/739269a03f2f4a7396d04d6739da3771/raw/registrations.csv [following]\n",
      "--2025-02-12 03:14:54--  https://gist.githubusercontent.com/Vs8th/739269a03f2f4a7396d04d6739da3771/raw/registrations.csv\n",
      "Resolving gist.githubusercontent.com (gist.githubusercontent.com)... 185.199.108.133, 185.199.110.133, 185.199.109.133, ...\n",
      "Connecting to gist.githubusercontent.com (gist.githubusercontent.com)|185.199.108.133|:443... connected.\n",
      "HTTP request sent, awaiting response... 200 OK\n",
      "Length: 14918 (15K) [text/plain]\n",
      "Saving to: 'registrations.csv'\n",
      "\n",
      "     0K .......... ....                                       100% 7.13M=0.002s\n",
      "\n",
      "2025-02-12 03:14:54 (7.13 MB/s) - 'registrations.csv' saved [14918/14918]\n",
      "\n",
      "--2025-02-12 03:14:54--  https://gist.github.com/Vs8th/aacb80595d1d6aaa2e31eb735f8bc644/raw/entries.csv\n",
      "Resolving gist.github.com (gist.github.com)... 140.82.121.3\n",
      "Connecting to gist.github.com (gist.github.com)|140.82.121.3|:443... connected.\n",
      "HTTP request sent, awaiting response... 301 Moved Permanently\n",
      "Location: https://gist.githubusercontent.com/Vs8th/aacb80595d1d6aaa2e31eb735f8bc644/raw/entries.csv [following]\n",
      "--2025-02-12 03:14:54--  https://gist.githubusercontent.com/Vs8th/aacb80595d1d6aaa2e31eb735f8bc644/raw/entries.csv\n",
      "Resolving gist.githubusercontent.com (gist.githubusercontent.com)... 185.199.108.133, 185.199.110.133, 185.199.109.133, ...\n",
      "Connecting to gist.githubusercontent.com (gist.githubusercontent.com)|185.199.108.133|:443... connected.\n",
      "HTTP request sent, awaiting response... 200 OK\n",
      "Length: 308588 (301K) [text/plain]\n",
      "Saving to: 'entries.csv'\n",
      "\n",
      "     0K .......... .......... .......... .......... .......... 16% 3.22M 0s\n",
      "    50K .......... .......... .......... .......... .......... 33% 9.10M 0s\n",
      "   100K .......... .......... .......... .......... .......... 49% 7.91M 0s\n",
      "   150K .......... .......... .......... .......... .......... 66% 9.63M 0s\n",
      "   200K .......... .......... .......... .......... .......... 82% 15.6M 0s\n",
      "   250K .......... .......... .......... .......... .......... 99% 26.9M 0s\n",
      "   300K .                                                     100% 25.9G=0.04s\n",
      "\n",
      "2025-02-12 03:14:54 (8.01 MB/s) - 'entries.csv' saved [308588/308588]\n",
      "\n",
      "--2025-02-12 03:14:54--  https://gist.github.com/Vs8th/0e827e9a608117345dd6585ab81e8c86/raw/metrics.txt\n",
      "Resolving gist.github.com (gist.github.com)... 140.82.121.3\n",
      "Connecting to gist.github.com (gist.github.com)|140.82.121.3|:443... connected.\n",
      "HTTP request sent, awaiting response... 301 Moved Permanently\n",
      "Location: https://gist.githubusercontent.com/Vs8th/0e827e9a608117345dd6585ab81e8c86/raw/metrics.txt [following]\n",
      "--2025-02-12 03:14:54--  https://gist.githubusercontent.com/Vs8th/0e827e9a608117345dd6585ab81e8c86/raw/metrics.txt\n",
      "Resolving gist.githubusercontent.com (gist.githubusercontent.com)... 185.199.108.133, 185.199.110.133, 185.199.109.133, ...\n",
      "Connecting to gist.githubusercontent.com (gist.githubusercontent.com)|185.199.108.133|:443... connected.\n",
      "HTTP request sent, awaiting response... 200 OK\n",
      "Length: 67 [text/plain]\n",
      "Saving to: 'metrics.txt'\n",
      "\n",
      "     0K                                                       100% 7.89M=0s\n",
      "\n",
      "2025-02-12 03:14:55 (7.89 MB/s) - 'metrics.txt' saved [67/67]\n",
      "\n"
     ]
    }
   ],
   "source": [
    "!wget https://gist.github.com/Vs8th/739269a03f2f4a7396d04d6739da3771/raw/registrations.csv\n",
    "\n",
    "!wget https://gist.github.com/Vs8th/aacb80595d1d6aaa2e31eb735f8bc644/raw/entries.csv\n",
    "\n",
    "!wget https://gist.github.com/Vs8th/0e827e9a608117345dd6585ab81e8c86/raw/metrics.txt"
   ]
  },
  {
   "cell_type": "markdown",
   "metadata": {},
   "source": [
    "❗❗⚠️*Словари заполненны из допущения, что входные данные (csv) отсортированы по дате, по возрастанию*⚠️❗❗"
   ]
  },
  {
   "cell_type": "code",
   "execution_count": 186,
   "metadata": {},
   "outputs": [],
   "source": [
    "import csv\n",
    "from datetime import date, timedelta\n",
    "\n",
    "registration_date_dict = {}\n",
    "registration_id_dict = {}\n",
    "with open('registrations.csv', 'r', newline='') as csvfile:\n",
    "    reader = csv.reader(csvfile, delimiter=';')\n",
    "    header = next(reader)\n",
    "    for user_id, entry_date in reader:\n",
    "        registration_date_dict.setdefault(date.fromisoformat(entry_date), set()).add(int(user_id))\n",
    "        registration_id_dict[int(user_id)] = date.fromisoformat(entry_date)\n",
    "\n",
    "entries_date_dict = {}\n",
    "entries_id_dict = {}\n",
    "with open('entries.csv', 'r', newline='') as csvfile:\n",
    "    reader = csv.reader(csvfile, delimiter=';')\n",
    "    header = next(reader)\n",
    "    for user_id, entry_date in reader:\n",
    "        entries_date_dict.setdefault(date.fromisoformat(entry_date), set()).add(int(user_id))\n",
    "        entries_id_dict[int(user_id)] = date.fromisoformat(entry_date)\n",
    "\n",
    "answers = []\n",
    "with open('metrics.txt', 'r') as f:\n",
    "    answers = f.read().split('\\n')\n",
    "\n",
    "\n",
    "def check_answers(value_to_check: float, correct_answer: float):\n",
    "    try:\n",
    "        assert value_to_check == correct_answer\n",
    "    except AssertionError:\n",
    "        print('Ответы не совпадают')\n",
    "    else:\n",
    "        print('Поздравляем, Вы справились!')"
   ]
  },
  {
   "cell_type": "markdown",
   "metadata": {},
   "source": [
    "### Retention 15 дня (в процентах) для пользователей, зарегистрированных в январе"
   ]
  },
  {
   "cell_type": "code",
   "execution_count": 187,
   "metadata": {},
   "outputs": [],
   "source": [
    "cohort_start_date = date(2021, 1, 1)\n",
    "cohort_end_date = date(2021, 2, 1)\n",
    "registrations_qty = 0\n",
    "entries_qty = 0\n",
    "\n",
    "for k, v in registration_date_dict.items():\n",
    "    if k >= cohort_start_date and k < cohort_end_date:\n",
    "        registrations_qty += len(v)\n",
    "        entries_qty += len(v.intersection(entries_date_dict.get(k +  timedelta(days=15), {})))\n",
    "\n",
    "retention_15_day = round((entries_qty/registrations_qty)*100, 5)"
   ]
  },
  {
   "cell_type": "markdown",
   "metadata": {},
   "source": [
    "**Проверка:**"
   ]
  },
  {
   "cell_type": "code",
   "execution_count": 188,
   "metadata": {},
   "outputs": [
    {
     "name": "stdout",
     "output_type": "stream",
     "text": [
      "Поздравляем, Вы справились!\n"
     ]
    }
   ],
   "source": [
    "check_answers(retention_15_day, float(answers[0]))"
   ]
  },
  {
   "cell_type": "markdown",
   "metadata": {},
   "source": [
    "### Rolling-retention 30 дня (в процентах) для пользователей, зарегистрированных в январе"
   ]
  },
  {
   "cell_type": "code",
   "execution_count": 189,
   "metadata": {},
   "outputs": [],
   "source": [
    "cohort_dict = {key: value for key, value in registration_id_dict.items() \n",
    "                if value >= date(2021, 1, 1) and value < date(2021, 2, 1)}\n",
    "\n",
    "entr_dict = {key: value for key, value in entries_id_dict.items() \n",
    "                if value >= cohort_start_date + timedelta(days=30)}\n",
    "\n",
    "entries_qty = sum(\n",
    "    1 for k, v in cohort_dict.items()\n",
    "    if entr_dict.get(k, v) >= v + timedelta(days=30)\n",
    ")\n",
    "\n",
    "rolling_retention = round((entries_qty/len(cohort_dict))*100, 5)"
   ]
  },
  {
   "cell_type": "markdown",
   "metadata": {},
   "source": [
    "**Проверка**"
   ]
  },
  {
   "cell_type": "code",
   "execution_count": 190,
   "metadata": {},
   "outputs": [
    {
     "name": "stdout",
     "output_type": "stream",
     "text": [
      "Поздравляем, Вы справились!\n"
     ]
    }
   ],
   "source": [
    "check_answers(rolling_retention, float(answers[1]))"
   ]
  },
  {
   "cell_type": "markdown",
   "metadata": {},
   "source": [
    "### Lifetime по всем пользователям, посчитанный как интеграл от n-day retention"
   ]
  },
  {
   "cell_type": "code",
   "execution_count": 191,
   "metadata": {},
   "outputs": [],
   "source": [
    "total = sum(len(v) for v in entries_date_dict.values())\n",
    "lifetime = round((total/len(registration_id_dict)), 5)"
   ]
  },
  {
   "cell_type": "markdown",
   "metadata": {},
   "source": [
    "**Проверка**"
   ]
  },
  {
   "cell_type": "code",
   "execution_count": 207,
   "metadata": {},
   "outputs": [
    {
     "name": "stdout",
     "output_type": "stream",
     "text": [
      "Поздравляем, Вы справились!\n"
     ]
    }
   ],
   "source": [
    "check_answers(lifetime, float(answers[2]))"
   ]
  },
  {
   "cell_type": "markdown",
   "metadata": {},
   "source": [
    "### Churn rate 29 дня (в долях), посчитанный по всем пользователям"
   ]
  },
  {
   "cell_type": "code",
   "execution_count": 193,
   "metadata": {},
   "outputs": [],
   "source": [
    "user_left_qty = sum(1 for k,v in registration_id_dict.items() \n",
    "                    if entries_id_dict[k] < v + timedelta(days=29))\n",
    "churn_29 = round(user_left_qty / len(registration_id_dict), 5)"
   ]
  },
  {
   "cell_type": "markdown",
   "metadata": {},
   "source": [
    "**Проверка**"
   ]
  },
  {
   "cell_type": "code",
   "execution_count": 208,
   "metadata": {},
   "outputs": [
    {
     "name": "stdout",
     "output_type": "stream",
     "text": [
      "Поздравляем, Вы справились!\n"
     ]
    }
   ],
   "source": [
    "check_answers(churn_29, float(answers[3]))"
   ]
  },
  {
   "cell_type": "markdown",
   "metadata": {},
   "source": [
    "### Mau, Wau, Dau за последний месяц/неделю/день записей"
   ]
  },
  {
   "cell_type": "code",
   "execution_count": 195,
   "metadata": {},
   "outputs": [],
   "source": [
    "bound_date = date(2021,12,1)\n",
    "releted_set = set.union(*(v for k, v in entries_date_dict.items() if k.month == bound_date.month))\n",
    "dec_mau = len(releted_set)"
   ]
  },
  {
   "cell_type": "markdown",
   "metadata": {},
   "source": [
    "Проверка dec_**Mau**"
   ]
  },
  {
   "cell_type": "code",
   "execution_count": 209,
   "metadata": {},
   "outputs": [
    {
     "name": "stdout",
     "output_type": "stream",
     "text": [
      "Поздравляем, Вы справились!\n"
     ]
    }
   ],
   "source": [
    "check_answers(dec_mau, float(answers[4]))"
   ]
  },
  {
   "cell_type": "code",
   "execution_count": 197,
   "metadata": {},
   "outputs": [],
   "source": [
    "bound_date = date(2021,12,4)\n",
    "releted_set = set.union(*(v for k, v in entries_date_dict.items() if k.month == bound_date.month and k.day > bound_date.day))\n",
    "dec_wau = len(releted_set)"
   ]
  },
  {
   "cell_type": "markdown",
   "metadata": {},
   "source": [
    "Проверка dec_**Wau**"
   ]
  },
  {
   "cell_type": "code",
   "execution_count": 198,
   "metadata": {},
   "outputs": [
    {
     "name": "stdout",
     "output_type": "stream",
     "text": [
      "Поздравляем, Вы справились!\n"
     ]
    }
   ],
   "source": [
    "check_answers(dec_wau, float(answers[5]))"
   ]
  },
  {
   "cell_type": "code",
   "execution_count": 199,
   "metadata": {},
   "outputs": [],
   "source": [
    "bound_date = date(2021,12,31)\n",
    "releted_set = set.union(*(v for k, v in entries_date_dict.items() if k == bound_date))\n",
    "dec_dau = len(releted_set)"
   ]
  },
  {
   "cell_type": "markdown",
   "metadata": {},
   "source": [
    "Проверка dec_**Dau**"
   ]
  },
  {
   "cell_type": "code",
   "execution_count": 200,
   "metadata": {},
   "outputs": [
    {
     "name": "stdout",
     "output_type": "stream",
     "text": [
      "Поздравляем, Вы справились!\n"
     ]
    }
   ],
   "source": [
    "check_answers(dec_dau, float(answers[6]))"
   ]
  },
  {
   "cell_type": "markdown",
   "metadata": {},
   "source": [
    "### Mau, Wau, Dau усредненные"
   ]
  },
  {
   "cell_type": "code",
   "execution_count": 201,
   "metadata": {},
   "outputs": [],
   "source": [
    "total = 0\n",
    "for i in range(1, 13):\n",
    "    total += len(set.union(*(v for k, v in entries_date_dict.items() if k.month == i)))\n",
    "avg_mau = round(total / 12, 5)"
   ]
  },
  {
   "cell_type": "markdown",
   "metadata": {},
   "source": [
    "Проверка avg_**Mau**"
   ]
  },
  {
   "cell_type": "code",
   "execution_count": 202,
   "metadata": {},
   "outputs": [
    {
     "name": "stdout",
     "output_type": "stream",
     "text": [
      "Поздравляем, Вы справились!\n"
     ]
    }
   ],
   "source": [
    "check_answers(avg_mau, float(answers[7]))"
   ]
  },
  {
   "cell_type": "code",
   "execution_count": 203,
   "metadata": {},
   "outputs": [],
   "source": [
    "import math\n",
    "result = {}\n",
    "for k, v in entries_date_dict.items():\n",
    "    key = math.ceil(k.timetuple().tm_yday / 7)\n",
    "    result.setdefault(key, set()).update(v)\n",
    "avg_wau = round(sum(len(v) for v in result.values()) / len(result)-1, 5)"
   ]
  },
  {
   "cell_type": "markdown",
   "metadata": {},
   "source": [
    "Проверка avg_**Wau**"
   ]
  },
  {
   "cell_type": "code",
   "execution_count": 204,
   "metadata": {},
   "outputs": [
    {
     "name": "stdout",
     "output_type": "stream",
     "text": [
      "Поздравляем, Вы справились!\n"
     ]
    }
   ],
   "source": [
    "check_answers(avg_wau, float(answers[8]))"
   ]
  },
  {
   "cell_type": "code",
   "execution_count": 205,
   "metadata": {},
   "outputs": [],
   "source": [
    "total = sum(len(v) for v in entries_date_dict.values())\n",
    "avg_dau = round(total / 365, 5)"
   ]
  },
  {
   "cell_type": "markdown",
   "metadata": {},
   "source": [
    "Проверка avg_**Dau**"
   ]
  },
  {
   "cell_type": "code",
   "execution_count": 206,
   "metadata": {},
   "outputs": [
    {
     "name": "stdout",
     "output_type": "stream",
     "text": [
      "Поздравляем, Вы справились!\n"
     ]
    }
   ],
   "source": [
    "check_answers(avg_dau, float(answers[9]))"
   ]
  }
 ],
 "metadata": {
  "kernelspec": {
   "display_name": "stud",
   "language": "python",
   "name": "python3"
  },
  "language_info": {
   "codemirror_mode": {
    "name": "ipython",
    "version": 3
   },
   "file_extension": ".py",
   "mimetype": "text/x-python",
   "name": "python",
   "nbconvert_exporter": "python",
   "pygments_lexer": "ipython3",
   "version": "3.11.11"
  }
 },
 "nbformat": 4,
 "nbformat_minor": 2
}
