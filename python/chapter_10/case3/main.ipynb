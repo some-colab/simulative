{
 "cells": [
  {
   "cell_type": "markdown",
   "metadata": {},
   "source": [
    "### Обязательно к первоочердному выполнению"
   ]
  },
  {
   "cell_type": "code",
   "execution_count": null,
   "metadata": {},
   "outputs": [],
   "source": [
    "!wget https://gist.github.com/Vs8th/739269a03f2f4a7396d04d6739da3771/raw/registrations.csv\n",
    "\n",
    "!wget https://gist.github.com/Vs8th/aacb80595d1d6aaa2e31eb735f8bc644/raw/entries.csv\n",
    "\n",
    "!wget https://gist.github.com/Vs8th/0e827e9a608117345dd6585ab81e8c86/raw/metrics.txt"
   ]
  },
  {
   "cell_type": "markdown",
   "metadata": {},
   "source": [
    "❗❗⚠️*Словари заполненны из допущения, что входные данные (csv) отсортированы по дате, по возрастанию*⚠️❗❗"
   ]
  },
  {
   "cell_type": "code",
   "execution_count": 19,
   "metadata": {},
   "outputs": [],
   "source": [
    "import csv\n",
    "from datetime import date, timedelta\n",
    "\n",
    "registration_date_dict = {}\n",
    "registration_id_dict = {}\n",
    "with open('registrations.csv', 'r', newline='') as csvfile:\n",
    "    reader = csv.reader(csvfile, delimiter=';')\n",
    "    header = next(reader)\n",
    "    for user_id, entry_date in reader:\n",
    "        registration_date_dict.setdefault(date.fromisoformat(entry_date), set()).add(int(user_id))\n",
    "        registration_id_dict[int(user_id)] = date.fromisoformat(entry_date)\n",
    "\n",
    "entries_date_dict = {}\n",
    "entries_id_dict = {}\n",
    "with open('entries.csv', 'r', newline='') as csvfile:\n",
    "    reader = csv.reader(csvfile, delimiter=';')\n",
    "    header = next(reader)\n",
    "    for user_id, entry_date in reader:\n",
    "        entries_date_dict.setdefault(date.fromisoformat(entry_date), set()).add(int(user_id))\n",
    "        entries_id_dict[int(user_id)] = date.fromisoformat(entry_date)\n",
    "\n",
    "answers = []\n",
    "with open('metrics.txt', 'r') as f:\n",
    "    answers = f.read().split('\\n')\n",
    "\n",
    "\n",
    "def check_answers(value_to_check: float, correct_answer: float):\n",
    "    try:\n",
    "        assert value_to_check == correct_answer\n",
    "    except AssertionError:\n",
    "        print('Ответы не совпадают')\n",
    "    else:\n",
    "        print('Поздравляем, Вы справились!')"
   ]
  },
  {
   "cell_type": "markdown",
   "metadata": {},
   "source": [
    "### Retention 15 дня (в процентах) для пользователей, зарегистрированных в январе"
   ]
  },
  {
   "cell_type": "code",
   "execution_count": 22,
   "metadata": {},
   "outputs": [],
   "source": [
    "cohort_start_date = date(2021, 1, 1)\n",
    "cohort_end_date = date(2021, 2, 1)\n",
    "registrations_qty = 0\n",
    "entries_qty = 0\n",
    "\n",
    "for k, v in registration_date_dict.items():\n",
    "    if k >= cohort_start_date and k < cohort_end_date:\n",
    "        registrations_qty += len(v)\n",
    "        entries_qty += len(v.intersection(entries_date_dict.get(k +  timedelta(days=15), {})))\n",
    "\n",
    "retention_15_day = round((entries_qty/registrations_qty)*100, 5)"
   ]
  },
  {
   "cell_type": "markdown",
   "metadata": {},
   "source": [
    "**Проверка:**"
   ]
  },
  {
   "cell_type": "code",
   "execution_count": 23,
   "metadata": {},
   "outputs": [
    {
     "name": "stdout",
     "output_type": "stream",
     "text": [
      "Поздравляем, Вы справились!\n"
     ]
    }
   ],
   "source": [
    "check_answers(retention_15_day, float(answers[0]))"
   ]
  },
  {
   "cell_type": "markdown",
   "metadata": {},
   "source": [
    "### Rolling-retention 30 дня (в процентах) для пользователей, зарегистрированных в январе"
   ]
  },
  {
   "cell_type": "code",
   "execution_count": 24,
   "metadata": {},
   "outputs": [],
   "source": [
    "cohort_dict = {key: value for key, value in registration_id_dict.items() \n",
    "                if value >= date(2021, 1, 1) and value < date(2021, 2, 1)}\n",
    "\n",
    "entr_dict = {key: value for key, value in entries_id_dict.items() \n",
    "                if value >= cohort_start_date + timedelta(days=30)}\n",
    "\n",
    "entries_qty = sum(\n",
    "    1 for k, v in cohort_dict.items()\n",
    "    if entr_dict.get(k, v) >= v + timedelta(days=30)\n",
    ")\n",
    "\n",
    "rolling_retention = round((entries_qty/len(cohort_dict))*100, 5)"
   ]
  },
  {
   "cell_type": "markdown",
   "metadata": {},
   "source": [
    "**Проверка**"
   ]
  },
  {
   "cell_type": "code",
   "execution_count": 26,
   "metadata": {},
   "outputs": [
    {
     "name": "stdout",
     "output_type": "stream",
     "text": [
      "Поздравляем, Вы справились!\n"
     ]
    }
   ],
   "source": [
    "check_answers(rolling_retention, float(answers[1]))"
   ]
  },
  {
   "cell_type": "markdown",
   "metadata": {},
   "source": [
    "### Lifetime по всем пользователям, посчитанный как интеграл от n-day retention"
   ]
  },
  {
   "cell_type": "code",
   "execution_count": 27,
   "metadata": {},
   "outputs": [],
   "source": [
    "total = sum(len(v) for v in entries_date_dict.values())\n",
    "lifetime = round((total/len(registration_id_dict)), 5)"
   ]
  },
  {
   "cell_type": "markdown",
   "metadata": {},
   "source": [
    "**Проверка**"
   ]
  },
  {
   "cell_type": "code",
   "execution_count": 28,
   "metadata": {},
   "outputs": [
    {
     "name": "stdout",
     "output_type": "stream",
     "text": [
      "Поздравляем, Вы справились!\n"
     ]
    }
   ],
   "source": [
    "check_answers(lifetime, float(answers[2]))"
   ]
  },
  {
   "cell_type": "markdown",
   "metadata": {},
   "source": [
    "### Churn rate 29 дня (в долях), посчитанный по всем пользователям"
   ]
  },
  {
   "cell_type": "code",
   "execution_count": 29,
   "metadata": {},
   "outputs": [],
   "source": [
    "user_left_qty = sum(1 for k,v in registration_id_dict.items() \n",
    "                    if entries_id_dict[k] < v + timedelta(days=29))\n",
    "churn_29 = round(user_left_qty / len(registration_id_dict), 5)"
   ]
  },
  {
   "cell_type": "markdown",
   "metadata": {},
   "source": [
    "**Проверка**"
   ]
  },
  {
   "cell_type": "code",
   "execution_count": 30,
   "metadata": {},
   "outputs": [
    {
     "name": "stdout",
     "output_type": "stream",
     "text": [
      "Поздравляем, Вы справились!\n"
     ]
    }
   ],
   "source": [
    "check_answers(churn_29, float(answers[3]))"
   ]
  },
  {
   "cell_type": "markdown",
   "metadata": {},
   "source": [
    "### Mau, Wau, Dau за последний месяц/неделю/день записей"
   ]
  },
  {
   "cell_type": "code",
   "execution_count": 15,
   "metadata": {},
   "outputs": [
    {
     "name": "stdout",
     "output_type": "stream",
     "text": [
      "0 0 0\n"
     ]
    }
   ],
   "source": [
    "dec_mau = 0\n",
    "dec_wau = 0\n",
    "dec_dau = 0\n",
    "print(dec_mau, dec_wau, dec_dau)"
   ]
  },
  {
   "cell_type": "markdown",
   "metadata": {},
   "source": [
    "Проверка dec_**Mau**"
   ]
  },
  {
   "cell_type": "code",
   "execution_count": 31,
   "metadata": {},
   "outputs": [
    {
     "name": "stdout",
     "output_type": "stream",
     "text": [
      "Ответы не совпадают\n"
     ]
    }
   ],
   "source": [
    "check_answers(dec_mau, float(answers[4]))"
   ]
  },
  {
   "cell_type": "markdown",
   "metadata": {},
   "source": [
    "Проверка dec_**Wau**"
   ]
  },
  {
   "cell_type": "code",
   "execution_count": 32,
   "metadata": {},
   "outputs": [
    {
     "name": "stdout",
     "output_type": "stream",
     "text": [
      "Ответы не совпадают\n"
     ]
    }
   ],
   "source": [
    "check_answers(dec_wau, float(answers[5]))"
   ]
  },
  {
   "cell_type": "markdown",
   "metadata": {},
   "source": [
    "Проверка dec_**Dau**"
   ]
  },
  {
   "cell_type": "code",
   "execution_count": 33,
   "metadata": {},
   "outputs": [
    {
     "name": "stdout",
     "output_type": "stream",
     "text": [
      "Ответы не совпадают\n"
     ]
    }
   ],
   "source": [
    "check_answers(dec_dau, float(answers[6]))"
   ]
  },
  {
   "cell_type": "markdown",
   "metadata": {},
   "source": [
    "### Mau, Wau, Dau усредненные"
   ]
  },
  {
   "cell_type": "code",
   "execution_count": 10,
   "metadata": {},
   "outputs": [
    {
     "name": "stdout",
     "output_type": "stream",
     "text": [
      "0 0 0\n"
     ]
    }
   ],
   "source": [
    "avg_mau = 0\n",
    "avg_wau = 0\n",
    "avg_dau = 0\n",
    "print(avg_mau, avg_wau, avg_dau)"
   ]
  },
  {
   "cell_type": "markdown",
   "metadata": {},
   "source": [
    "Проверка avg_**Mau**"
   ]
  },
  {
   "cell_type": "code",
   "execution_count": 34,
   "metadata": {},
   "outputs": [
    {
     "name": "stdout",
     "output_type": "stream",
     "text": [
      "Ответы не совпадают\n"
     ]
    }
   ],
   "source": [
    "check_answers(avg_mau, float(answers[7]))"
   ]
  },
  {
   "cell_type": "markdown",
   "metadata": {},
   "source": [
    "Проверка avg_**Wau**"
   ]
  },
  {
   "cell_type": "code",
   "execution_count": 35,
   "metadata": {},
   "outputs": [
    {
     "name": "stdout",
     "output_type": "stream",
     "text": [
      "Ответы не совпадают\n"
     ]
    }
   ],
   "source": [
    "check_answers(avg_wau, float(answers[8]))"
   ]
  },
  {
   "cell_type": "markdown",
   "metadata": {},
   "source": [
    "Проверка avg_**Dau**"
   ]
  },
  {
   "cell_type": "code",
   "execution_count": 36,
   "metadata": {},
   "outputs": [
    {
     "name": "stdout",
     "output_type": "stream",
     "text": [
      "Ответы не совпадают\n"
     ]
    }
   ],
   "source": [
    "check_answers(avg_dau, float(answers[9]))"
   ]
  }
 ],
 "metadata": {
  "kernelspec": {
   "display_name": "stud",
   "language": "python",
   "name": "python3"
  },
  "language_info": {
   "codemirror_mode": {
    "name": "ipython",
    "version": 3
   },
   "file_extension": ".py",
   "mimetype": "text/x-python",
   "name": "python",
   "nbconvert_exporter": "python",
   "pygments_lexer": "ipython3",
   "version": "3.11.11"
  }
 },
 "nbformat": 4,
 "nbformat_minor": 2
}
