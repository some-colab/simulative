{
 "cells": [
  {
   "cell_type": "markdown",
   "metadata": {},
   "source": [
    "### Обязательно к первоочердному выполнению"
   ]
  },
  {
   "cell_type": "code",
   "execution_count": null,
   "metadata": {},
   "outputs": [],
   "source": [
    "!wget https://gist.github.com/Vs8th/739269a03f2f4a7396d04d6739da3771/raw/registrations.csv\n",
    "\n",
    "!wget https://gist.github.com/Vs8th/aacb80595d1d6aaa2e31eb735f8bc644/raw/entries.csv\n",
    "\n",
    "!wget https://gist.github.com/Vs8th/0e827e9a608117345dd6585ab81e8c86/raw/metrics.txt"
   ]
  },
  {
   "cell_type": "code",
   "execution_count": 123,
   "metadata": {},
   "outputs": [],
   "source": [
    "import csv\n",
    "from datetime import date, timedelta\n",
    "\n",
    "registration_date_dict = {}\n",
    "registration_id_dict = {}\n",
    "with open('registrations.csv', 'r', newline='') as csvfile:\n",
    "    reader = csv.reader(csvfile, delimiter=';')\n",
    "    header = next(reader)\n",
    "    for user_id, entry_date in reader:\n",
    "        registration_date_dict.setdefault(date.fromisoformat(entry_date), set()).add(int(user_id))\n",
    "        registration_id_dict[int(user_id)] = date.fromisoformat(entry_date)\n",
    "\n",
    "entries_date_dict = {}\n",
    "entries_id_dict = {}\n",
    "with open('entries.csv', 'r', newline='') as csvfile:\n",
    "    reader = csv.reader(csvfile, delimiter=';')\n",
    "    header = next(reader)\n",
    "    for user_id, entry_date in reader:\n",
    "        entries_date_dict.setdefault(date.fromisoformat(entry_date), set()).add(int(user_id))\n",
    "        entries_id_dict[int(user_id)] = date.fromisoformat(entry_date)\n",
    "\n",
    "answers = []\n",
    "with open('metrics.txt', 'r') as f:\n",
    "    answers = f.read().split('\\n')"
   ]
  },
  {
   "cell_type": "markdown",
   "metadata": {},
   "source": [
    "### Retention 15 дня (в процентах) для пользователей, зарегистрированных в январе"
   ]
  },
  {
   "cell_type": "code",
   "execution_count": 124,
   "metadata": {},
   "outputs": [],
   "source": [
    "cohort_start_date = date(2021, 1, 1)\n",
    "cohort_end_date = date(2021, 2, 1)\n",
    "registrations_qty = 0\n",
    "entries_qty = 0\n",
    "\n",
    "for k, v in registration_date_dict.items():\n",
    "    if k >= cohort_start_date and k < cohort_end_date:\n",
    "        registrations_qty += len(v)\n",
    "        entries_qty += len(v.intersection(entries_date_dict.get(k +  timedelta(days=15), {})))\n",
    "\n",
    "retention_15_day = round((entries_qty/registrations_qty)*100, 5)"
   ]
  },
  {
   "cell_type": "markdown",
   "metadata": {},
   "source": [
    "**Проверка:**"
   ]
  },
  {
   "cell_type": "code",
   "execution_count": 125,
   "metadata": {},
   "outputs": [
    {
     "name": "stdout",
     "output_type": "stream",
     "text": [
      "Поздравляем, Вы справились!\n"
     ]
    }
   ],
   "source": [
    "correct_answer = float(answers[0])\n",
    "\n",
    "try:\n",
    "    assert retention_15_day == correct_answer\n",
    "except AssertionError:\n",
    "    print('Ответы не совпадают')\n",
    "else:\n",
    "    print('Поздравляем, Вы справились!')"
   ]
  },
  {
   "cell_type": "markdown",
   "metadata": {},
   "source": [
    "### Rolling-retention 30 дня (в процентах) для пользователей, зарегистрированных в январе"
   ]
  },
  {
   "cell_type": "code",
   "execution_count": null,
   "metadata": {},
   "outputs": [],
   "source": [
    "cohort_dict = {key: value for key, value in registration_id_dict.items() \n",
    "                if value >= date(2021, 1, 1) and value < date(2021, 2, 1)}\n",
    "\n",
    "entr_dict = {key: value for key, value in entries_id_dict.items() \n",
    "                if value >= cohort_start_date + timedelta(days=30)}\n",
    "\n",
    "entries_qty = sum(\n",
    "    1 for k, v in cohort_dict.items()\n",
    "    if entr_dict.get(k, v) >= v + timedelta(days=30)\n",
    ")\n",
    "\n",
    "rolling_retention = round((entries_qty/len(cohort_dict))*100, 5)"
   ]
  },
  {
   "cell_type": "markdown",
   "metadata": {},
   "source": [
    "**Проверка**"
   ]
  },
  {
   "cell_type": "code",
   "execution_count": 127,
   "metadata": {},
   "outputs": [
    {
     "name": "stdout",
     "output_type": "stream",
     "text": [
      "Поздравляем, Вы справились!\n"
     ]
    }
   ],
   "source": [
    "correct_answer = float(answers[1])\n",
    "\n",
    "try:\n",
    "    assert rolling_retention == correct_answer\n",
    "except AssertionError:\n",
    "    print('Ответы не совпадают')\n",
    "else:\n",
    "    print('Поздравляем, Вы справились!')"
   ]
  },
  {
   "cell_type": "markdown",
   "metadata": {},
   "source": [
    "### Lifetime по всем пользователям, посчитанный как интеграл от n-day retention"
   ]
  },
  {
   "cell_type": "code",
   "execution_count": 163,
   "metadata": {},
   "outputs": [],
   "source": [
    "total = sum(len(v) for v in entries_date_dict.values())\n",
    "lifetime = round((total/len(registration_id_dict)), 5)"
   ]
  },
  {
   "cell_type": "markdown",
   "metadata": {},
   "source": [
    "**Проверка**"
   ]
  },
  {
   "cell_type": "code",
   "execution_count": 164,
   "metadata": {},
   "outputs": [
    {
     "name": "stdout",
     "output_type": "stream",
     "text": [
      "Поздравляем, Вы справились!\n"
     ]
    }
   ],
   "source": [
    "correct_answer = float(answers[2])\n",
    "\n",
    "try:\n",
    "    assert lifetime == correct_answer\n",
    "except AssertionError:\n",
    "    print('Ответы не совпадают')\n",
    "else:\n",
    "    print('Поздравляем, Вы справились!')"
   ]
  },
  {
   "cell_type": "markdown",
   "metadata": {},
   "source": [
    "### Churn rate 29 дня (в долях), посчитанный по всем пользователям"
   ]
  },
  {
   "cell_type": "code",
   "execution_count": null,
   "metadata": {},
   "outputs": [],
   "source": []
  }
 ],
 "metadata": {
  "kernelspec": {
   "display_name": "stud",
   "language": "python",
   "name": "python3"
  },
  "language_info": {
   "codemirror_mode": {
    "name": "ipython",
    "version": 3
   },
   "file_extension": ".py",
   "mimetype": "text/x-python",
   "name": "python",
   "nbconvert_exporter": "python",
   "pygments_lexer": "ipython3",
   "version": "3.11.11"
  }
 },
 "nbformat": 4,
 "nbformat_minor": 2
}
