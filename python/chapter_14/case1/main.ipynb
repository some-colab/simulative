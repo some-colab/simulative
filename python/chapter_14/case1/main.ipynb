{
 "cells": [
  {
   "cell_type": "markdown",
   "metadata": {},
   "source": [
    "### Перед началом решения выполните следующую ячейку"
   ]
  },
  {
   "cell_type": "code",
   "execution_count": 72,
   "metadata": {},
   "outputs": [
    {
     "name": "stderr",
     "output_type": "stream",
     "text": [
      "--2025-02-14 20:15:25--  https://gist.github.com/Vs8th/38d5d914171c84166728a9746d212bad/raw/auto_purchase.log\n",
      "Resolving gist.github.com (gist.github.com)... 140.82.121.4\n",
      "Connecting to gist.github.com (gist.github.com)|140.82.121.4|:443... connected.\n",
      "HTTP request sent, awaiting response... 301 Moved Permanently\n",
      "Location: https://gist.githubusercontent.com/Vs8th/38d5d914171c84166728a9746d212bad/raw/auto_purchase.log [following]\n",
      "--2025-02-14 20:15:27--  https://gist.githubusercontent.com/Vs8th/38d5d914171c84166728a9746d212bad/raw/auto_purchase.log\n",
      "Resolving gist.githubusercontent.com (gist.githubusercontent.com)... 185.199.109.133, 185.199.110.133, 185.199.111.133, ...\n",
      "Connecting to gist.githubusercontent.com (gist.githubusercontent.com)|185.199.109.133|:443... connected.\n",
      "HTTP request sent, awaiting response... 200 OK\n",
      "Length: 459418 (449K) [text/plain]\n",
      "Saving to: 'auto_purchase.log'\n",
      "\n",
      "     0K .......... .......... .......... .......... .......... 11% 3.40M 0s\n",
      "    50K .......... .......... .......... .......... .......... 22% 10.5M 0s\n",
      "   100K .......... .......... .......... .......... .......... 33% 7.78M 0s\n",
      "   150K .......... .......... .......... .......... .......... 44% 9.39M 0s\n",
      "   200K .......... .......... .......... .......... .......... 55% 34.9M 0s\n",
      "   250K .......... .......... .......... .......... .......... 66% 19.4M 0s\n",
      "   300K .......... .......... .......... .......... .......... 78% 17.1M 0s\n",
      "   350K .......... .......... .......... .......... .......... 89% 12.5M 0s\n",
      "   400K .......... .......... .......... .......... ........  100% 66.6M=0.04s\n",
      "\n",
      "2025-02-14 20:15:27 (10.5 MB/s) - 'auto_purchase.log' saved [459418/459418]\n",
      "\n"
     ]
    }
   ],
   "source": [
    "!wget https://gist.github.com/Vs8th/38d5d914171c84166728a9746d212bad/raw/auto_purchase.log"
   ]
  },
  {
   "cell_type": "code",
   "execution_count": 73,
   "metadata": {},
   "outputs": [],
   "source": [
    "from datetime import datetime\n",
    "from collections import defaultdict\n",
    "import re\n",
    "\n",
    "\n",
    "def parse_log_file(log_file_path):\n",
    "    grouped = defaultdict(dict)\n",
    "    with open(log_file_path, 'r') as file:\n",
    "        for line in file:    \n",
    "            splited = line.split('|')\n",
    "            key = datetime.strptime(splited[1].strip(), \"%Y-%m-%d %H:%M:%S,%f\").date()\n",
    "            user_id = re.search('( id: )(\\d*)', splited[4])\n",
    "            if user_id is not None and 'Обновляем подписку' in splited[4]:\n",
    "                grouped[key].setdefault('sub', list()).append(int(user_id.group(2)))\n",
    "            elif user_id is not None and 'У пользователя' in splited[4]:\n",
    "                if splited[0].startswith('INFO'):\n",
    "                    grouped[key].setdefault('exp', list()).append(int(user_id.group(2)))\n",
    "                else:\n",
    "                    grouped[key].setdefault('err', list()).append(int(user_id.group(2)))\n",
    "            elif key not in grouped:\n",
    "                grouped[key] = {}\n",
    "    return grouped"
   ]
  },
  {
   "cell_type": "markdown",
   "metadata": {},
   "source": [
    "### Задача 1"
   ]
  },
  {
   "cell_type": "code",
   "execution_count": 74,
   "metadata": {},
   "outputs": [],
   "source": [
    "def count_success_and_failure(log_file_path):\n",
    "    parsed_log = parse_log_file(log_file_path)\n",
    "\n",
    "    total_sub = sum(len(v.get('sub', [])) for v in parsed_log.values())\n",
    "    total_err = sum(len(v.get('err', [])) for v in parsed_log.values())\n",
    "\n",
    "    return (total_sub - total_err, total_err)"
   ]
  },
  {
   "cell_type": "markdown",
   "metadata": {},
   "source": [
    "**Проверка**"
   ]
  },
  {
   "cell_type": "code",
   "execution_count": 75,
   "metadata": {},
   "outputs": [
    {
     "name": "stdout",
     "output_type": "stream",
     "text": [
      "Поздравляем, Вы справились!\n"
     ]
    }
   ],
   "source": [
    "res = count_success_and_failure('auto_purchase.log')\n",
    "\n",
    "try:\n",
    "    assert res == (1034, 186)\n",
    "except AssertionError:\n",
    "    print('Ответы не совпадают')\n",
    "else:\n",
    "    print('Поздравляем, Вы справились!')"
   ]
  },
  {
   "cell_type": "markdown",
   "metadata": {},
   "source": [
    "### Задача 2"
   ]
  },
  {
   "cell_type": "markdown",
   "metadata": {},
   "source": [
    "![image info](chapter14case1task2.png)"
   ]
  },
  {
   "cell_type": "markdown",
   "metadata": {},
   "source": [
    "**Решением с добавлением записи об обновлении подписки для пользователя**"
   ]
  },
  {
   "cell_type": "code",
   "execution_count": 76,
   "metadata": {},
   "outputs": [],
   "source": [
    "def auto_renewal_sub(log_file_path):\n",
    "    parsed_log = parse_log_file(log_file_path)\n",
    "\n",
    "    strange_date = datetime.strptime('2022-12-31', \"%Y-%m-%d\").date()\n",
    "    parsed_log[strange_date]['sub'].append(666)\n",
    "    \n",
    "    values = [len({*v.get('sub', [])}) for v in parsed_log.values()]\n",
    "    means = []\n",
    "    medians = []\n",
    "    for i in range(len(values)):\n",
    "        current_window = values[:i+1]\n",
    "        \n",
    "        # среднее\n",
    "        mean = sum(current_window) / len(current_window)\n",
    "        means.append(round(mean, 2))\n",
    "        \n",
    "        # медианa\n",
    "        sorted_window = sorted(current_window)\n",
    "        if len(current_window) % 2 == 0:\n",
    "            median = (sorted_window[len(current_window)//2 - 1] + \n",
    "                    sorted_window[len(current_window)//2]) / 2\n",
    "        else:\n",
    "            median = sorted_window[len(current_window)//2]\n",
    "        medians.append(int(median))\n",
    "        \n",
    "    with open('auto_renewal_sub.txt', 'w') as file:\n",
    "        file.write(f\"Среднее: {means}\\n\")\n",
    "        file.write(f\"Медиана: {medians}\\n\")\n",
    "    \n",
    "\n",
    "auto_renewal_sub('auto_purchase.log')"
   ]
  },
  {
   "cell_type": "markdown",
   "metadata": {},
   "source": [
    "**Решение основывающееся на разбоер сообщения формата: \"*(\\d{4})-(\\d{2})-(\\d{2}).\\*: (\\d\\*)$*\"**"
   ]
  },
  {
   "cell_type": "code",
   "execution_count": 79,
   "metadata": {},
   "outputs": [],
   "source": [
    "from datetime import datetime\n",
    "from collections import defaultdict\n",
    "import re\n",
    "\n",
    "\n",
    "def auto_renewal_sub(log_file_path):\n",
    "    grouped = defaultdict(int)\n",
    "    with open(log_file_path, 'r') as file:\n",
    "        for line in file:\n",
    "            splited = line.split('|')\n",
    "            key = datetime.strptime(splited[1].strip(), \"%Y-%m-%d %H:%M:%S,%f\").date()\n",
    "            user_qty = re.search(r'(\\d{4})-(\\d{2})-(\\d{2}).*: (\\d*)$', splited[4])\n",
    "            if user_qty is not None:\n",
    "                qty_value = re.search(r'(\\d*)$', user_qty.group(0))\n",
    "                grouped[key] = max(grouped[key], int(qty_value.group(0)))            \n",
    "\n",
    "    values = [*grouped.values()]\n",
    "    means = []\n",
    "    medians = []\n",
    "    for i in range(len(values)):\n",
    "        current_window = values[:i+1]\n",
    "        \n",
    "        # среднее\n",
    "        mean = sum(current_window) / len(current_window)\n",
    "        means.append(round(mean, 2))\n",
    "        \n",
    "        # медианa\n",
    "        sorted_window = sorted(current_window)\n",
    "        if len(current_window) % 2 == 0:\n",
    "            median = (sorted_window[len(current_window)//2 - 1] + \n",
    "                    sorted_window[len(current_window)//2]) / 2\n",
    "        else:\n",
    "            median = sorted_window[len(current_window)//2]\n",
    "        medians.append(int(median))\n",
    "        \n",
    "    with open('auto_renewal_sub.txt', 'w') as file:\n",
    "        file.write(f\"Среднее: {means}\\n\")\n",
    "        file.write(f\"Медиана: {medians}\\n\")\n",
    "\n",
    "auto_renewal_sub('auto_purchase.log')"
   ]
  },
  {
   "cell_type": "markdown",
   "metadata": {},
   "source": [
    "**Проверка**"
   ]
  },
  {
   "cell_type": "code",
   "execution_count": 77,
   "metadata": {},
   "outputs": [
    {
     "name": "stderr",
     "output_type": "stream",
     "text": [
      "--2025-02-14 20:15:48--  https://gist.github.com/Vs8th/846cbc97a722ab825cda4dda3b2b3434/raw/cor_auto_renewal.txt\n",
      "Resolving gist.github.com (gist.github.com)... 140.82.121.4\n",
      "Connecting to gist.github.com (gist.github.com)|140.82.121.4|:443... connected.\n",
      "HTTP request sent, awaiting response... 301 Moved Permanently\n",
      "Location: https://gist.githubusercontent.com/Vs8th/846cbc97a722ab825cda4dda3b2b3434/raw/cor_auto_renewal.txt [following]\n",
      "--2025-02-14 20:15:48--  https://gist.githubusercontent.com/Vs8th/846cbc97a722ab825cda4dda3b2b3434/raw/cor_auto_renewal.txt\n",
      "Resolving gist.githubusercontent.com (gist.githubusercontent.com)... 185.199.109.133, 185.199.110.133, 185.199.111.133, ...\n",
      "Connecting to gist.githubusercontent.com (gist.githubusercontent.com)|185.199.109.133|:443... connected.\n",
      "HTTP request sent, awaiting response... 200 OK\n",
      "Length: 2431 (2.4K) [text/plain]\n",
      "Saving to: 'cor_auto_renewal.txt'\n",
      "\n",
      "     0K ..                                                    100% 11.1M=0s\n",
      "\n",
      "2025-02-14 20:15:49 (11.1 MB/s) - 'cor_auto_renewal.txt' saved [2431/2431]\n",
      "\n"
     ]
    }
   ],
   "source": [
    "!wget https://gist.github.com/Vs8th/846cbc97a722ab825cda4dda3b2b3434/raw/cor_auto_renewal.txt"
   ]
  },
  {
   "cell_type": "code",
   "execution_count": 80,
   "metadata": {},
   "outputs": [
    {
     "name": "stdout",
     "output_type": "stream",
     "text": [
      "Поздравляем, Вы справились и успешно прошли все проверки!!\n"
     ]
    }
   ],
   "source": [
    "import pandas as pd\n",
    "\n",
    "user_answer = pd.read_csv('auto_renewal_sub.txt')\n",
    "correct_answer = pd.read_csv('cor_auto_renewal.txt')\n",
    "\n",
    "try:\n",
    "  assert (user_answer == correct_answer).all().all(), 'Ответы не совпадают'\n",
    "except Exception as err:\n",
    "  raise AssertionError(f'При проверке возникла ошибка {repr(err)}')\n",
    "else:\n",
    "  print('Поздравляем, Вы справились и успешно прошли все проверки!!')"
   ]
  },
  {
   "cell_type": "markdown",
   "metadata": {},
   "source": [
    "### Задача 3"
   ]
  },
  {
   "cell_type": "code",
   "execution_count": 81,
   "metadata": {},
   "outputs": [],
   "source": [
    "from collections import defaultdict\n",
    "\n",
    "def sub_renewal_by_day(log_file_path):\n",
    "    parsed_log = parse_log_file(log_file_path)\n",
    "    days_of_week = ['Понедельник', 'Вторник', 'Среда', 'Четверг', 'Пятница', 'Суббота', 'Воскресенье']\n",
    "    week_dict = defaultdict(int)\n",
    "    for k, v in parsed_log.items():\n",
    "        key = k.weekday()\n",
    "        value = week_dict.get(key, [0, 0])\n",
    "        value[0] += len(v.get('sub', []))\n",
    "        value[1] += len(v.get('err', []))\n",
    "        week_dict[key] = value\n",
    "\n",
    "    with open('weekdays.txt', 'w') as file:\n",
    "        file.write(f\"Количество обновлений подписки по дням недели:\\n\")    \n",
    "        file.write('\\n'.join([f'{d}: {week_dict[i][0] - week_dict[i][1]}' for i, d in enumerate(days_of_week)]))\n",
    "        \n",
    "sub_renewal_by_day('auto_purchase.log')"
   ]
  },
  {
   "cell_type": "markdown",
   "metadata": {},
   "source": [
    "**Проверка**"
   ]
  },
  {
   "cell_type": "code",
   "execution_count": 82,
   "metadata": {},
   "outputs": [
    {
     "name": "stderr",
     "output_type": "stream",
     "text": [
      "--2025-02-14 20:16:11--  https://gist.github.com/Vs8th/c4c382f50761b5b9e64795eb89d49fda/raw/cor_weekdays.txt\n",
      "Resolving gist.github.com (gist.github.com)... 140.82.121.4\n",
      "Connecting to gist.github.com (gist.github.com)|140.82.121.4|:443... connected.\n",
      "HTTP request sent, awaiting response... 301 Moved Permanently\n",
      "Location: https://gist.githubusercontent.com/Vs8th/c4c382f50761b5b9e64795eb89d49fda/raw/cor_weekdays.txt [following]\n",
      "--2025-02-14 20:16:11--  https://gist.githubusercontent.com/Vs8th/c4c382f50761b5b9e64795eb89d49fda/raw/cor_weekdays.txt\n",
      "Resolving gist.githubusercontent.com (gist.githubusercontent.com)... 185.199.109.133, 185.199.110.133, 185.199.111.133, ...\n",
      "Connecting to gist.githubusercontent.com (gist.githubusercontent.com)|185.199.109.133|:443... connected.\n",
      "HTTP request sent, awaiting response... 200 OK\n",
      "Length: 238 [text/plain]\n",
      "Saving to: 'cor_weekdays.txt'\n",
      "\n",
      "     0K                                                       100% 22.7M=0s\n",
      "\n",
      "2025-02-14 20:16:11 (22.7 MB/s) - 'cor_weekdays.txt' saved [238/238]\n",
      "\n"
     ]
    }
   ],
   "source": [
    "!wget https://gist.github.com/Vs8th/c4c382f50761b5b9e64795eb89d49fda/raw/cor_weekdays.txt"
   ]
  },
  {
   "cell_type": "code",
   "execution_count": 83,
   "metadata": {},
   "outputs": [
    {
     "name": "stdout",
     "output_type": "stream",
     "text": [
      "Поздравляем, Вы справились и успешно прошли все проверки!!\n"
     ]
    }
   ],
   "source": [
    "import pandas as pd\n",
    "\n",
    "user_answer = pd.read_csv('weekdays.txt')\n",
    "correct_answer = pd.read_csv('cor_weekdays.txt')\n",
    "\n",
    "try:\n",
    "  assert (user_answer == correct_answer).all().all(), 'Ответы не совпадают'\n",
    "except Exception as err:\n",
    "  raise AssertionError(f'При проверке возникла ошибка {repr(err)}')\n",
    "else:\n",
    "  print('Поздравляем, Вы справились и успешно прошли все проверки!!')"
   ]
  }
 ],
 "metadata": {
  "kernelspec": {
   "display_name": "stud",
   "language": "python",
   "name": "python3"
  },
  "language_info": {
   "codemirror_mode": {
    "name": "ipython",
    "version": 3
   },
   "file_extension": ".py",
   "mimetype": "text/x-python",
   "name": "python",
   "nbconvert_exporter": "python",
   "pygments_lexer": "ipython3",
   "version": "3.11.11"
  }
 },
 "nbformat": 4,
 "nbformat_minor": 2
}
