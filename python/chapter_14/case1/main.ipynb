{
 "cells": [
  {
   "cell_type": "markdown",
   "metadata": {},
   "source": [
    "### Перед началом решения выполните следующую ячейку"
   ]
  },
  {
   "cell_type": "code",
   "execution_count": null,
   "metadata": {},
   "outputs": [],
   "source": [
    "!wget https://gist.github.com/Vs8th/38d5d914171c84166728a9746d212bad/raw/auto_purchase.log"
   ]
  },
  {
   "cell_type": "code",
   "execution_count": 12,
   "metadata": {},
   "outputs": [],
   "source": [
    "from datetime import datetime\n",
    "from collections import defaultdict\n",
    "import re\n",
    "\n",
    "\n",
    "def parse_log_file(log_file_path):\n",
    "    grouped = defaultdict(dict)\n",
    "    with open(log_file_path, 'r') as file:\n",
    "        for line in file:    \n",
    "            splited = line.split('|')\n",
    "            key = datetime.strptime(splited[1].strip(), \"%Y-%m-%d %H:%M:%S,%f\").date()\n",
    "            user_id = re.search('( id: )(\\d*)', splited[4])\n",
    "            if user_id is not None and 'Обновляем подписку' in splited[4]:\n",
    "                grouped[key].setdefault('sub', list()).append(int(user_id.group(2)))\n",
    "            elif user_id is not None and 'У пользователя' in splited[4]:\n",
    "                if splited[0].startswith('INFO'):\n",
    "                    grouped[key].setdefault('exp', list()).append(int(user_id.group(2)))\n",
    "                else:\n",
    "                    grouped[key].setdefault('err', list()).append(int(user_id.group(2)))\n",
    "            elif key not in grouped:\n",
    "                grouped[key] = {}\n",
    "    return grouped"
   ]
  },
  {
   "cell_type": "markdown",
   "metadata": {},
   "source": [
    "### Задача 1"
   ]
  },
  {
   "cell_type": "code",
   "execution_count": null,
   "metadata": {},
   "outputs": [],
   "source": [
    "def count_success_and_failure(log_file_path):\n",
    "    parsed_log = parse_log_file(log_file_path)\n",
    "\n",
    "    total_sub = sum(len(v.get('sub', [])) for v in parsed_log.values())\n",
    "    total_err = sum(len(v.get('err', [])) for v in parsed_log.values())\n",
    "\n",
    "    return (total_sub - total_err, total_err)"
   ]
  },
  {
   "cell_type": "markdown",
   "metadata": {},
   "source": [
    "**Проверка**"
   ]
  },
  {
   "cell_type": "code",
   "execution_count": 14,
   "metadata": {},
   "outputs": [
    {
     "name": "stdout",
     "output_type": "stream",
     "text": [
      "Поздравляем, Вы справились!\n"
     ]
    }
   ],
   "source": [
    "res = count_success_and_failure('auto_purchase.log')\n",
    "\n",
    "try:\n",
    "    assert res == (1034, 186)\n",
    "except AssertionError:\n",
    "    print('Ответы не совпадают')\n",
    "else:\n",
    "    print('Поздравляем, Вы справились!')"
   ]
  },
  {
   "cell_type": "markdown",
   "metadata": {},
   "source": [
    "### Задача 2"
   ]
  },
  {
   "cell_type": "markdown",
   "metadata": {},
   "source": [
    "![image info](chapter14case1task2.png)"
   ]
  },
  {
   "cell_type": "markdown",
   "metadata": {},
   "source": [
    "**Решением с добавлением записи об обновлении подписки для пользователя**"
   ]
  },
  {
   "cell_type": "code",
   "execution_count": null,
   "metadata": {},
   "outputs": [],
   "source": [
    "def auto_renewal_sub(log_file_path):\n",
    "    parsed_log = parse_log_file(log_file_path)\n",
    "\n",
    "    strange_date = datetime.strptime('2022-12-31', \"%Y-%m-%d\").date()\n",
    "    parsed_log[strange_date]['sub'].append(666)\n",
    "    \n",
    "    values = [len({*v.get('sub', [])}) for v in parsed_log.values()]\n",
    "    means = []\n",
    "    medians = []\n",
    "    for i in range(len(values)):\n",
    "        current_window = values[:i+1]\n",
    "        \n",
    "        # среднее\n",
    "        mean = sum(current_window) / len(current_window)\n",
    "        means.append(round(mean, 2))\n",
    "        \n",
    "        # медианa\n",
    "        sorted_window = sorted(current_window)\n",
    "        if len(current_window) % 2 == 0:\n",
    "            median = (sorted_window[len(current_window)//2 - 1] + \n",
    "                    sorted_window[len(current_window)//2]) / 2\n",
    "        else:\n",
    "            median = sorted_window[len(current_window)//2]\n",
    "        medians.append(int(median))\n",
    "        \n",
    "    with open('auto_renewal_sub.txt', 'w') as file:\n",
    "        file.write(f\"Среднее: {means}\\n\")\n",
    "        file.write(f\"Медиана: {medians}\\n\")\n",
    "    \n",
    "\n",
    "auto_renewal_sub('auto_purchase.log')"
   ]
  },
  {
   "cell_type": "markdown",
   "metadata": {},
   "source": [
    "**Решение основывающееся на разбоер сообщения формата: \"*(\\d{4})-(\\d{2})-(\\d{2}).\\*: (\\d\\*)$*\"**"
   ]
  },
  {
   "cell_type": "code",
   "execution_count": 66,
   "metadata": {},
   "outputs": [],
   "source": [
    "from datetime import datetime\n",
    "from collections import defaultdict\n",
    "import re\n",
    "\n",
    "\n",
    "def auto_renewal_sub(log_file_path):\n",
    "    grouped = defaultdict(int)\n",
    "    with open(log_file_path, 'r') as file:\n",
    "        for line in file:\n",
    "            splited = line.split('|')\n",
    "            key = datetime.strptime(splited[1].strip(), \"%Y-%m-%d %H:%M:%S,%f\").date()\n",
    "            user_qty = re.search(r'(\\d{4})-(\\d{2})-(\\d{2}).*: (\\d*)$', splited[4])\n",
    "            if user_qty is not None:\n",
    "                qty_value = re.search(r'(\\d*)$', user_qty.group(0))\n",
    "                grouped[key] = max(grouped[key], int(qty_value.group(0)))            \n",
    "\n",
    "    values = [*grouped.values()]\n",
    "    means = []\n",
    "    medians = []\n",
    "    for i in range(len(values)):\n",
    "        current_window = values[:i+1]\n",
    "        \n",
    "        # среднее\n",
    "        mean = sum(current_window) / len(current_window)\n",
    "        means.append(round(mean, 2))\n",
    "        \n",
    "        # медианa\n",
    "        sorted_window = sorted(current_window)\n",
    "        if len(current_window) % 2 == 0:\n",
    "            median = (sorted_window[len(current_window)//2 - 1] + \n",
    "                    sorted_window[len(current_window)//2]) / 2\n",
    "        else:\n",
    "            median = sorted_window[len(current_window)//2]\n",
    "        medians.append(int(median))\n",
    "        \n",
    "    with open('auto_renewal_sub.txt', 'w') as file:\n",
    "        file.write(f\"Среднее: {means}\\n\")\n",
    "        file.write(f\"Медиана: {medians}\\n\")\n",
    "\n",
    "auto_renewal_sub('auto_purchase.log')"
   ]
  },
  {
   "cell_type": "markdown",
   "metadata": {},
   "source": [
    "**Проверка**"
   ]
  },
  {
   "cell_type": "code",
   "execution_count": null,
   "metadata": {},
   "outputs": [],
   "source": [
    "!wget https://gist.github.com/Vs8th/846cbc97a722ab825cda4dda3b2b3434/raw/cor_auto_renewal.txt"
   ]
  },
  {
   "cell_type": "code",
   "execution_count": 68,
   "metadata": {},
   "outputs": [
    {
     "name": "stdout",
     "output_type": "stream",
     "text": [
      "Поздравляем, Вы справились и успешно прошли все проверки!!\n"
     ]
    }
   ],
   "source": [
    "import pandas as pd\n",
    "\n",
    "user_answer = pd.read_csv('auto_renewal_sub.txt')\n",
    "correct_answer = pd.read_csv('cor_auto_renewal.txt')\n",
    "\n",
    "try:\n",
    "  assert (user_answer == correct_answer).all().all(), 'Ответы не совпадают'\n",
    "except Exception as err:\n",
    "  raise AssertionError(f'При проверке возникла ошибка {repr(err)}')\n",
    "else:\n",
    "  print('Поздравляем, Вы справились и успешно прошли все проверки!!')"
   ]
  },
  {
   "cell_type": "markdown",
   "metadata": {},
   "source": [
    "### Задача 3"
   ]
  },
  {
   "cell_type": "markdown",
   "metadata": {},
   "source": [
    "Напишите функцию `sub_renewal_by_day`, которая принимает на вход путь к файлу с логами и анализирует взаимосвязь дня продления подписки и количества продлений в этот день. Функция должна записать в файл `weekdays.txt` аналитическую записку в формате:\n",
    "\n",
    "**`Количество обновлений подписки по дням недели:`**\n",
    "\n",
    "**`Понедельник: 6`**\n",
    "\n",
    "**`Вторник: 7`**\n",
    "\n",
    "**`Среда: 8`**\n",
    "\n",
    "**`...`**"
   ]
  },
  {
   "cell_type": "code",
   "execution_count": null,
   "metadata": {},
   "outputs": [],
   "source": [
    "def sub_renewal_by_day(file_path):\n",
    "    pass\n",
    "\n",
    "sub_renewal_by_day('auto_purchase.log')"
   ]
  },
  {
   "cell_type": "markdown",
   "metadata": {},
   "source": [
    "**Проверка**"
   ]
  },
  {
   "cell_type": "code",
   "execution_count": null,
   "metadata": {},
   "outputs": [],
   "source": [
    "!wget https://gist.github.com/Vs8th/c4c382f50761b5b9e64795eb89d49fda/raw/cor_weekdays.txt\n",
    "\n",
    "import pandas as pd\n",
    "\n",
    "user_answer = pd.read_csv('weekdays.txt')\n",
    "correct_answer = pd.read_csv('cor_weekdays.txt')"
   ]
  },
  {
   "cell_type": "code",
   "execution_count": null,
   "metadata": {},
   "outputs": [],
   "source": [
    "try:\n",
    "  assert (user_answer == correct_answer).all().all(), 'Ответы не совпадают'\n",
    "except Exception as err:\n",
    "  raise AssertionError(f'При проверке возникла ошибка {repr(err)}')\n",
    "else:\n",
    "  print('Поздравляем, Вы справились и успешно прошли все проверки!!')"
   ]
  }
 ],
 "metadata": {
  "kernelspec": {
   "display_name": "stud",
   "language": "python",
   "name": "python3"
  },
  "language_info": {
   "codemirror_mode": {
    "name": "ipython",
    "version": 3
   },
   "file_extension": ".py",
   "mimetype": "text/x-python",
   "name": "python",
   "nbconvert_exporter": "python",
   "pygments_lexer": "ipython3",
   "version": "3.11.11"
  }
 },
 "nbformat": 4,
 "nbformat_minor": 2
}
