{
 "cells": [
  {
   "cell_type": "markdown",
   "metadata": {},
   "source": [
    "### Перед началом решения выполните следующую ячейку"
   ]
  },
  {
   "cell_type": "code",
   "execution_count": 1,
   "metadata": {},
   "outputs": [
    {
     "name": "stderr",
     "output_type": "stream",
     "text": [
      "--2025-02-13 18:07:36--  https://gist.github.com/Vs8th/38d5d914171c84166728a9746d212bad/raw/auto_purchase.log\n",
      "Resolving gist.github.com (gist.github.com)... 140.82.121.3\n",
      "Connecting to gist.github.com (gist.github.com)|140.82.121.3|:443... connected.\n",
      "HTTP request sent, awaiting response... 301 Moved Permanently\n",
      "Location: https://gist.githubusercontent.com/Vs8th/38d5d914171c84166728a9746d212bad/raw/auto_purchase.log [following]\n",
      "--2025-02-13 18:07:36--  https://gist.githubusercontent.com/Vs8th/38d5d914171c84166728a9746d212bad/raw/auto_purchase.log\n",
      "Resolving gist.githubusercontent.com (gist.githubusercontent.com)... 185.199.108.133, 185.199.109.133, 185.199.110.133, ...\n",
      "Connecting to gist.githubusercontent.com (gist.githubusercontent.com)|185.199.108.133|:443... connected.\n",
      "HTTP request sent, awaiting response... 200 OK\n",
      "Length: 459418 (449K) [text/plain]\n",
      "Saving to: 'auto_purchase.log'\n",
      "\n",
      "     0K .......... .......... .......... .......... .......... 11% 3.25M 0s\n",
      "    50K .......... .......... .......... .......... .......... 22% 8.44M 0s\n",
      "   100K .......... .......... .......... .......... .......... 33% 5.68M 0s\n",
      "   150K .......... .......... .......... .......... .......... 44% 20.8M 0s\n",
      "   200K .......... .......... .......... .......... .......... 55% 12.0M 0s\n",
      "   250K .......... .......... .......... .......... .......... 66% 24.1M 0s\n",
      "   300K .......... .......... .......... .......... .......... 78% 12.9M 0s\n",
      "   350K .......... .......... .......... .......... .......... 89% 11.4M 0s\n",
      "   400K .......... .......... .......... .......... ........  100% 36.5M=0.05s\n",
      "\n",
      "2025-02-13 18:07:36 (9.27 MB/s) - 'auto_purchase.log' saved [459418/459418]\n",
      "\n"
     ]
    }
   ],
   "source": [
    "!wget https://gist.github.com/Vs8th/38d5d914171c84166728a9746d212bad/raw/auto_purchase.log"
   ]
  },
  {
   "cell_type": "markdown",
   "metadata": {},
   "source": [
    "### Задача 1"
   ]
  },
  {
   "cell_type": "code",
   "execution_count": 83,
   "metadata": {},
   "outputs": [],
   "source": [
    "from collections import namedtuple\n",
    "from datetime import datetime\n",
    "\n",
    "log_item = namedtuple('log_item', ['level', 'date', 'file', 'line', 'msg'])\n",
    "\n",
    "with open('auto_purchase.log', 'r') as f:\n",
    "    lines = f.readlines()\n",
    "\n",
    "\n",
    "\n",
    "def count_success_and_failure(file_path):\n",
    "    logs=[]\n",
    "    for l in lines:\n",
    "        splited = l.split('|')\n",
    "        item = log_item(splited[0].strip(), datetime.strptime(splited[1].strip(), \"%Y-%m-%d %H:%M:%S,%f\"), splited[2].strip()[len('file: '):], int(splited[3].strip()[len('line: '):]), splited[4].strip()[len('[demon] '):])\n",
    "        logs.append(item)\n",
    "\n",
    "    errors = 0\n",
    "    upd = 0\n",
    "    for l in logs:\n",
    "        if l.level == 'ERROR':            \n",
    "            errors += 1\n",
    "        elif l.msg.startswith('Обновляем подписку пользователю'):\n",
    "            upd += 1 \n",
    "\n",
    "    return (upd - errors, errors)"
   ]
  },
  {
   "cell_type": "markdown",
   "metadata": {},
   "source": [
    "**Проверка**"
   ]
  },
  {
   "cell_type": "code",
   "execution_count": 84,
   "metadata": {},
   "outputs": [
    {
     "name": "stdout",
     "output_type": "stream",
     "text": [
      "Поздравляем, Вы справились!\n"
     ]
    }
   ],
   "source": [
    "res = count_success_and_failure('auto_purchase.log')\n",
    "\n",
    "try:\n",
    "    assert res == (1034, 186)\n",
    "except AssertionError:\n",
    "    print('Ответы не совпадают')\n",
    "else:\n",
    "    print('Поздравляем, Вы справились!')"
   ]
  },
  {
   "cell_type": "markdown",
   "metadata": {},
   "source": [
    "### Задача 2"
   ]
  },
  {
   "cell_type": "markdown",
   "metadata": {},
   "source": [
    "Ваша задача написать функцию `auto_renewal_sub`, которая принимает на вход путь к файлу с логами и обрабатывает количество клиентов с автопродлением подписки. Мы хотим посмотреть на изменение этого показателя в динамике: посчитайте сглаженные значения с помощью метода скользящего среднего и метода медианного сглаживания.  \n",
    "\n",
    "**Примечание:** При сглаживании берем все предыдущие значения, включая текущее, будущие значения не берем. Если в один день наблюдаем несколько записей об автопродлении - берем максимальное из имеющихся число клиентов с подпиской.\n",
    "\n",
    "Функция должна записать в файл `auto_renewal_sub.txt` два списка, предварив их соответствущими обозначениями:\n",
    "\n",
    "`Среднее: [2.0, 1.0, 0.67...]`\n",
    "\n",
    "`Медиана: [2, 2, 0...]`"
   ]
  },
  {
   "cell_type": "code",
   "execution_count": null,
   "metadata": {},
   "outputs": [],
   "source": []
  }
 ],
 "metadata": {
  "kernelspec": {
   "display_name": "stud",
   "language": "python",
   "name": "python3"
  },
  "language_info": {
   "codemirror_mode": {
    "name": "ipython",
    "version": 3
   },
   "file_extension": ".py",
   "mimetype": "text/x-python",
   "name": "python",
   "nbconvert_exporter": "python",
   "pygments_lexer": "ipython3",
   "version": "3.11.11"
  }
 },
 "nbformat": 4,
 "nbformat_minor": 2
}
