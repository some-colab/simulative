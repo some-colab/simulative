{
 "cells": [
  {
   "cell_type": "markdown",
   "metadata": {},
   "source": [
    "### Перед началом решения выполните следующую ячейку"
   ]
  },
  {
   "cell_type": "code",
   "execution_count": 1,
   "metadata": {},
   "outputs": [
    {
     "name": "stderr",
     "output_type": "stream",
     "text": [
      "--2025-02-13 18:07:36--  https://gist.github.com/Vs8th/38d5d914171c84166728a9746d212bad/raw/auto_purchase.log\n",
      "Resolving gist.github.com (gist.github.com)... 140.82.121.3\n",
      "Connecting to gist.github.com (gist.github.com)|140.82.121.3|:443... connected.\n",
      "HTTP request sent, awaiting response... 301 Moved Permanently\n",
      "Location: https://gist.githubusercontent.com/Vs8th/38d5d914171c84166728a9746d212bad/raw/auto_purchase.log [following]\n",
      "--2025-02-13 18:07:36--  https://gist.githubusercontent.com/Vs8th/38d5d914171c84166728a9746d212bad/raw/auto_purchase.log\n",
      "Resolving gist.githubusercontent.com (gist.githubusercontent.com)... 185.199.108.133, 185.199.109.133, 185.199.110.133, ...\n",
      "Connecting to gist.githubusercontent.com (gist.githubusercontent.com)|185.199.108.133|:443... connected.\n",
      "HTTP request sent, awaiting response... 200 OK\n",
      "Length: 459418 (449K) [text/plain]\n",
      "Saving to: 'auto_purchase.log'\n",
      "\n",
      "     0K .......... .......... .......... .......... .......... 11% 3.25M 0s\n",
      "    50K .......... .......... .......... .......... .......... 22% 8.44M 0s\n",
      "   100K .......... .......... .......... .......... .......... 33% 5.68M 0s\n",
      "   150K .......... .......... .......... .......... .......... 44% 20.8M 0s\n",
      "   200K .......... .......... .......... .......... .......... 55% 12.0M 0s\n",
      "   250K .......... .......... .......... .......... .......... 66% 24.1M 0s\n",
      "   300K .......... .......... .......... .......... .......... 78% 12.9M 0s\n",
      "   350K .......... .......... .......... .......... .......... 89% 11.4M 0s\n",
      "   400K .......... .......... .......... .......... ........  100% 36.5M=0.05s\n",
      "\n",
      "2025-02-13 18:07:36 (9.27 MB/s) - 'auto_purchase.log' saved [459418/459418]\n",
      "\n"
     ]
    }
   ],
   "source": [
    "!wget https://gist.github.com/Vs8th/38d5d914171c84166728a9746d212bad/raw/auto_purchase.log"
   ]
  },
  {
   "cell_type": "markdown",
   "metadata": {},
   "source": [
    "### Задача 1"
   ]
  },
  {
   "cell_type": "code",
   "execution_count": 22,
   "metadata": {},
   "outputs": [],
   "source": [
    "from datetime import datetime\n",
    "from collections import defaultdict, namedtuple\n",
    "import re\n",
    "\n",
    "\n",
    "grouped = defaultdict(dict)\n",
    "\n",
    "def count_success_and_failure(log_file_path):\n",
    "    with open('auto_purchase.log', 'r') as file:\n",
    "        for line in file:    \n",
    "            splited = line.split('|')\n",
    "            key = datetime.strptime(splited[1].strip(), \"%Y-%m-%d %H:%M:%S,%f\").date()\n",
    "            id = re.search('( id: )(\\d*)', splited[4])\n",
    "            if id is not None and 'Обновляем подписку' in splited[4]:\n",
    "                grouped[key].setdefault('sub', list()).append(int(id.group(2)))\n",
    "            elif id is not None and 'У пользователя' in splited[4]:\n",
    "                if splited[0].startswith('INFO'):\n",
    "                    grouped[key].setdefault('exp', list()).append(int(id.group(2)))\n",
    "                else:\n",
    "                    grouped[key].setdefault('err', list()).append(int(id.group(2)))\n",
    "    \n",
    "    total_sub = sum(len(v.get('sub', [])) for v in grouped.values())\n",
    "    total_err = sum(len(v.get('err', [])) for v in grouped.values())\n",
    "\n",
    "    return (total_sub - total_err, total_err)"
   ]
  },
  {
   "cell_type": "markdown",
   "metadata": {},
   "source": [
    "**Проверка**"
   ]
  },
  {
   "cell_type": "code",
   "execution_count": 23,
   "metadata": {},
   "outputs": [
    {
     "name": "stdout",
     "output_type": "stream",
     "text": [
      "Поздравляем, Вы справились!\n"
     ]
    }
   ],
   "source": [
    "res = count_success_and_failure('auto_purchase.log')\n",
    "\n",
    "try:\n",
    "    assert res == (1034, 186)\n",
    "except AssertionError:\n",
    "    print('Ответы не совпадают')\n",
    "else:\n",
    "    print('Поздравляем, Вы справились!')"
   ]
  },
  {
   "cell_type": "markdown",
   "metadata": {},
   "source": [
    "### Задача 2"
   ]
  },
  {
   "cell_type": "markdown",
   "metadata": {},
   "source": [
    "![image info](chapter14case1task2.png)"
   ]
  },
  {
   "cell_type": "markdown",
   "metadata": {},
   "source": [
    "**Решением с добавлением записи об обновлении подписки для пользователя**"
   ]
  },
  {
   "cell_type": "code",
   "execution_count": 73,
   "metadata": {},
   "outputs": [],
   "source": [
    "from datetime import datetime\n",
    "from collections import defaultdict, namedtuple\n",
    "import re\n",
    "\n",
    "\n",
    "grouped = defaultdict(dict)\n",
    "\n",
    "\n",
    "def median_means(values):\n",
    "    means = []\n",
    "    medians = []\n",
    "    for i in range(len(values)):\n",
    "        current_window = values[:i+1]\n",
    "        \n",
    "        # среднее\n",
    "        mean = sum(current_window) / len(current_window)\n",
    "        means.append(round(mean, 2))\n",
    "        \n",
    "        # медианa\n",
    "        sorted_window = sorted(current_window)\n",
    "        if len(current_window) % 2 == 0:\n",
    "            median = (sorted_window[len(current_window)//2 - 1] + \n",
    "                    sorted_window[len(current_window)//2]) / 2\n",
    "        else:\n",
    "            median = sorted_window[len(current_window)//2]\n",
    "        medians.append(int(median))\n",
    "    return (means, medians)\n",
    "\n",
    "\n",
    "def auto_renewal_sub(log_file_path):\n",
    "    with open('auto_purchase.log', 'r') as file:\n",
    "        for line in file:    \n",
    "            splited = line.split('|')\n",
    "            key = datetime.strptime(splited[1].strip(), \"%Y-%m-%d %H:%M:%S,%f\").date()\n",
    "            user_id = re.search('( id: )(\\d*)', splited[4])\n",
    "            if user_id is not None and 'Обновляем подписку' in splited[4]:\n",
    "                grouped[key].setdefault('sub', set()).add(int(user_id.group(2)))\n",
    "            elif user_id is not None and 'У пользователя' in splited[4]:\n",
    "                if splited[0].startswith('INFO'):\n",
    "                    grouped[key].setdefault('exp', list()).append(int(user_id.group(2)))\n",
    "                else:\n",
    "                    grouped[key].setdefault('err', list()).append(int(user_id.group(2)))\n",
    "            elif key not in grouped:\n",
    "                grouped[key] = {}\n",
    "\n",
    "    strange_date = datetime.strptime('2022-12-31', \"%Y-%m-%d\").date()\n",
    "    grouped[strange_date]['sub'].add(666)\n",
    "    \n",
    "    means, medians = median_means([len(v.get('sub', {})) for v in grouped.values()])\n",
    "        \n",
    "    with open('auto_renewal_sub.txt', 'w') as file:\n",
    "        file.write(f\"Среднее: {means}\\n\")\n",
    "        file.write(f\"Медиана: {medians}\\n\")\n",
    "    \n",
    "\n",
    "auto_renewal_sub('auto_purchase.log')"
   ]
  },
  {
   "cell_type": "markdown",
   "metadata": {},
   "source": [
    "**Решение основывающееся на разбоер сообщения формата: \"Cегодня *%Y-%m-%d*, количество людей с автопродлением подписки: *(\\d)$*\"**"
   ]
  },
  {
   "cell_type": "code",
   "execution_count": null,
   "metadata": {},
   "outputs": [],
   "source": []
  },
  {
   "cell_type": "markdown",
   "metadata": {},
   "source": [
    "**Проверка**"
   ]
  },
  {
   "cell_type": "code",
   "execution_count": 71,
   "metadata": {},
   "outputs": [
    {
     "name": "stderr",
     "output_type": "stream",
     "text": [
      "--2025-02-14 03:40:04--  https://gist.github.com/Vs8th/846cbc97a722ab825cda4dda3b2b3434/raw/cor_auto_renewal.txt\n",
      "Resolving gist.github.com (gist.github.com)... 140.82.121.4\n",
      "Connecting to gist.github.com (gist.github.com)|140.82.121.4|:443... connected.\n",
      "HTTP request sent, awaiting response... 301 Moved Permanently\n",
      "Location: https://gist.githubusercontent.com/Vs8th/846cbc97a722ab825cda4dda3b2b3434/raw/cor_auto_renewal.txt [following]\n",
      "--2025-02-14 03:40:04--  https://gist.githubusercontent.com/Vs8th/846cbc97a722ab825cda4dda3b2b3434/raw/cor_auto_renewal.txt\n",
      "Resolving gist.githubusercontent.com (gist.githubusercontent.com)... 185.199.109.133, 185.199.110.133, 185.199.111.133, ...\n",
      "Connecting to gist.githubusercontent.com (gist.githubusercontent.com)|185.199.109.133|:443... connected.\n",
      "HTTP request sent, awaiting response... 200 OK\n",
      "Length: 2431 (2.4K) [text/plain]\n",
      "Saving to: 'cor_auto_renewal.txt'\n",
      "\n",
      "     0K ..                                                    100% 15.0M=0s\n",
      "\n",
      "2025-02-14 03:40:04 (15.0 MB/s) - 'cor_auto_renewal.txt' saved [2431/2431]\n",
      "\n"
     ]
    }
   ],
   "source": [
    "!wget https://gist.github.com/Vs8th/846cbc97a722ab825cda4dda3b2b3434/raw/cor_auto_renewal.txt"
   ]
  },
  {
   "cell_type": "code",
   "execution_count": 74,
   "metadata": {},
   "outputs": [
    {
     "name": "stdout",
     "output_type": "stream",
     "text": [
      "Поздравляем, Вы справились и успешно прошли все проверки!!\n"
     ]
    }
   ],
   "source": [
    "import pandas as pd\n",
    "\n",
    "user_answer = pd.read_csv('auto_renewal_sub.txt')\n",
    "correct_answer = pd.read_csv('cor_auto_renewal.txt')\n",
    "\n",
    "try:\n",
    "  assert (user_answer == correct_answer).all().all(), 'Ответы не совпадают'\n",
    "except Exception as err:\n",
    "  raise AssertionError(f'При проверке возникла ошибка {repr(err)}')\n",
    "else:\n",
    "  print('Поздравляем, Вы справились и успешно прошли все проверки!!')"
   ]
  },
  {
   "cell_type": "markdown",
   "metadata": {},
   "source": [
    "### Задача 3"
   ]
  },
  {
   "cell_type": "markdown",
   "metadata": {},
   "source": [
    "Напишите функцию `sub_renewal_by_day`, которая принимает на вход путь к файлу с логами и анализирует взаимосвязь дня продления подписки и количества продлений в этот день. Функция должна записать в файл `weekdays.txt` аналитическую записку в формате:\n",
    "\n",
    "**`Количество обновлений подписки по дням недели:`**\n",
    "\n",
    "**`Понедельник: 6`**\n",
    "\n",
    "**`Вторник: 7`**\n",
    "\n",
    "**`Среда: 8`**\n",
    "\n",
    "**`...`**"
   ]
  },
  {
   "cell_type": "code",
   "execution_count": null,
   "metadata": {},
   "outputs": [],
   "source": [
    "def sub_renewal_by_day(file_path):\n",
    "    pass\n",
    "\n",
    "sub_renewal_by_day('auto_purchase.log')"
   ]
  },
  {
   "cell_type": "markdown",
   "metadata": {},
   "source": [
    "**Проверка**"
   ]
  },
  {
   "cell_type": "code",
   "execution_count": null,
   "metadata": {},
   "outputs": [],
   "source": [
    "!wget https://gist.github.com/Vs8th/c4c382f50761b5b9e64795eb89d49fda/raw/cor_weekdays.txt\n",
    "\n",
    "import pandas as pd\n",
    "\n",
    "user_answer = pd.read_csv('weekdays.txt')\n",
    "correct_answer = pd.read_csv('cor_weekdays.txt')"
   ]
  },
  {
   "cell_type": "code",
   "execution_count": null,
   "metadata": {},
   "outputs": [],
   "source": [
    "try:\n",
    "  assert (user_answer == correct_answer).all().all(), 'Ответы не совпадают'\n",
    "except Exception as err:\n",
    "  raise AssertionError(f'При проверке возникла ошибка {repr(err)}')\n",
    "else:\n",
    "  print('Поздравляем, Вы справились и успешно прошли все проверки!!')"
   ]
  }
 ],
 "metadata": {
  "kernelspec": {
   "display_name": "stud",
   "language": "python",
   "name": "python3"
  },
  "language_info": {
   "codemirror_mode": {
    "name": "ipython",
    "version": 3
   },
   "file_extension": ".py",
   "mimetype": "text/x-python",
   "name": "python",
   "nbconvert_exporter": "python",
   "pygments_lexer": "ipython3",
   "version": "3.11.11"
  }
 },
 "nbformat": 4,
 "nbformat_minor": 2
}
