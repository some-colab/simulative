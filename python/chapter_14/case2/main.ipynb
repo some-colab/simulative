{
 "cells": [
  {
   "cell_type": "markdown",
   "metadata": {},
   "source": [
    "### Перед началом решения задачи выполните следующую ячейку"
   ]
  },
  {
   "cell_type": "code",
   "execution_count": null,
   "metadata": {},
   "outputs": [],
   "source": [
    "!wget https://gist.github.com/Vs8th/73045f9fe675f43ef7e63ab56f1c08bd/raw/campaign_data.csv\n",
    "\n",
    "!wget https://gist.github.com/Vs8th/2d55f7828343a0b5e570b47552c3affe/raw/marketing_campaigns.txt\n",
    "\n",
    "!wget https://gist.github.com/Vs8th/ff57611e607f407b186805ae15b08f1c/raw/cor_platform.txt"
   ]
  },
  {
   "cell_type": "code",
   "execution_count": 122,
   "metadata": {},
   "outputs": [
    {
     "data": {
      "text/html": [
       "<div>\n",
       "<style scoped>\n",
       "    .dataframe tbody tr th:only-of-type {\n",
       "        vertical-align: middle;\n",
       "    }\n",
       "\n",
       "    .dataframe tbody tr th {\n",
       "        vertical-align: top;\n",
       "    }\n",
       "\n",
       "    .dataframe thead th {\n",
       "        text-align: right;\n",
       "    }\n",
       "</style>\n",
       "<table border=\"1\" class=\"dataframe\">\n",
       "  <thead>\n",
       "    <tr style=\"text-align: right;\">\n",
       "      <th></th>\n",
       "      <th>ID Кампании</th>\n",
       "      <th>Начальная дата</th>\n",
       "      <th>Конечная дата</th>\n",
       "      <th>Тип кампании</th>\n",
       "      <th>Платформа</th>\n",
       "      <th>Бюджет</th>\n",
       "      <th>Город</th>\n",
       "      <th>Показы</th>\n",
       "      <th>Клики</th>\n",
       "      <th>Конверсия</th>\n",
       "      <th>Доход</th>\n",
       "    </tr>\n",
       "  </thead>\n",
       "  <tbody>\n",
       "    <tr>\n",
       "      <th>0</th>\n",
       "      <td>1</td>\n",
       "      <td>2022-01-01</td>\n",
       "      <td>2022-11-30</td>\n",
       "      <td>Контекстная</td>\n",
       "      <td>Telegram</td>\n",
       "      <td>35693</td>\n",
       "      <td>Казань</td>\n",
       "      <td>3217.0</td>\n",
       "      <td>507.0</td>\n",
       "      <td>188</td>\n",
       "      <td>44205</td>\n",
       "    </tr>\n",
       "    <tr>\n",
       "      <th>1</th>\n",
       "      <td>2</td>\n",
       "      <td>2022-01-01</td>\n",
       "      <td>2022-08-27</td>\n",
       "      <td>Поисковая оптимизация</td>\n",
       "      <td>Вконтакте</td>\n",
       "      <td>1986</td>\n",
       "      <td>Москва</td>\n",
       "      <td>1362.0</td>\n",
       "      <td>305.0</td>\n",
       "      <td>95</td>\n",
       "      <td>9964</td>\n",
       "    </tr>\n",
       "    <tr>\n",
       "      <th>2</th>\n",
       "      <td>3</td>\n",
       "      <td>2022-01-02</td>\n",
       "      <td>2022-03-11</td>\n",
       "      <td>Баннерная</td>\n",
       "      <td>Instagram</td>\n",
       "      <td>2020</td>\n",
       "      <td>Екатеринбург</td>\n",
       "      <td>2420.0</td>\n",
       "      <td>541.0</td>\n",
       "      <td>87</td>\n",
       "      <td>14792</td>\n",
       "    </tr>\n",
       "    <tr>\n",
       "      <th>3</th>\n",
       "      <td>4</td>\n",
       "      <td>2022-01-02</td>\n",
       "      <td>2022-06-20</td>\n",
       "      <td>Видеореклама</td>\n",
       "      <td>Google</td>\n",
       "      <td>18684</td>\n",
       "      <td>Москва</td>\n",
       "      <td>728.0</td>\n",
       "      <td>406.0</td>\n",
       "      <td>73</td>\n",
       "      <td>13824</td>\n",
       "    </tr>\n",
       "    <tr>\n",
       "      <th>4</th>\n",
       "      <td>8</td>\n",
       "      <td>2022-01-04</td>\n",
       "      <td>2022-12-06</td>\n",
       "      <td>Поисковая оптимизация</td>\n",
       "      <td>Вконтакте</td>\n",
       "      <td>47936</td>\n",
       "      <td>Екатеринбург</td>\n",
       "      <td>356.0</td>\n",
       "      <td>129.0</td>\n",
       "      <td>31</td>\n",
       "      <td>3908</td>\n",
       "    </tr>\n",
       "    <tr>\n",
       "      <th>...</th>\n",
       "      <td>...</td>\n",
       "      <td>...</td>\n",
       "      <td>...</td>\n",
       "      <td>...</td>\n",
       "      <td>...</td>\n",
       "      <td>...</td>\n",
       "      <td>...</td>\n",
       "      <td>...</td>\n",
       "      <td>...</td>\n",
       "      <td>...</td>\n",
       "      <td>...</td>\n",
       "    </tr>\n",
       "    <tr>\n",
       "      <th>1015</th>\n",
       "      <td>1240</td>\n",
       "      <td>2022-12-28</td>\n",
       "      <td>2022-12-29</td>\n",
       "      <td>Видеореклама</td>\n",
       "      <td>Instagram</td>\n",
       "      <td>24525</td>\n",
       "      <td>Калуга</td>\n",
       "      <td>5610.0</td>\n",
       "      <td>732.0</td>\n",
       "      <td>93</td>\n",
       "      <td>12208</td>\n",
       "    </tr>\n",
       "    <tr>\n",
       "      <th>1016</th>\n",
       "      <td>1241</td>\n",
       "      <td>2022-12-28</td>\n",
       "      <td>2022-12-29</td>\n",
       "      <td>Нативная интеграция</td>\n",
       "      <td>Telegram</td>\n",
       "      <td>2904</td>\n",
       "      <td>Екатеринбург</td>\n",
       "      <td>937.0</td>\n",
       "      <td>199.0</td>\n",
       "      <td>44</td>\n",
       "      <td>2839</td>\n",
       "    </tr>\n",
       "    <tr>\n",
       "      <th>1017</th>\n",
       "      <td>1243</td>\n",
       "      <td>2022-12-28</td>\n",
       "      <td>2022-12-30</td>\n",
       "      <td>Нативная интеграция</td>\n",
       "      <td>Telegram</td>\n",
       "      <td>27913</td>\n",
       "      <td>Казань</td>\n",
       "      <td>9309.0</td>\n",
       "      <td>1280.0</td>\n",
       "      <td>128</td>\n",
       "      <td>30575</td>\n",
       "    </tr>\n",
       "    <tr>\n",
       "      <th>1018</th>\n",
       "      <td>1245</td>\n",
       "      <td>2022-12-29</td>\n",
       "      <td>2022-12-29</td>\n",
       "      <td>Поисковая оптимизация</td>\n",
       "      <td>Google</td>\n",
       "      <td>23648</td>\n",
       "      <td>Новосибирск</td>\n",
       "      <td>854.0</td>\n",
       "      <td>252.0</td>\n",
       "      <td>71</td>\n",
       "      <td>17632</td>\n",
       "    </tr>\n",
       "    <tr>\n",
       "      <th>1019</th>\n",
       "      <td>1246</td>\n",
       "      <td>2022-12-30</td>\n",
       "      <td>2022-12-30</td>\n",
       "      <td>Баннерная</td>\n",
       "      <td>Telegram</td>\n",
       "      <td>1909</td>\n",
       "      <td>Екатеринбург</td>\n",
       "      <td>848.0</td>\n",
       "      <td>228.0</td>\n",
       "      <td>31</td>\n",
       "      <td>4298</td>\n",
       "    </tr>\n",
       "  </tbody>\n",
       "</table>\n",
       "<p>1020 rows × 11 columns</p>\n",
       "</div>"
      ],
      "text/plain": [
       "      ID Кампании Начальная дата Конечная дата           Тип кампании  \\\n",
       "0               1     2022-01-01    2022-11-30            Контекстная   \n",
       "1               2     2022-01-01    2022-08-27  Поисковая оптимизация   \n",
       "2               3     2022-01-02    2022-03-11              Баннерная   \n",
       "3               4     2022-01-02    2022-06-20           Видеореклама   \n",
       "4               8     2022-01-04    2022-12-06  Поисковая оптимизация   \n",
       "...           ...            ...           ...                    ...   \n",
       "1015         1240     2022-12-28    2022-12-29           Видеореклама   \n",
       "1016         1241     2022-12-28    2022-12-29    Нативная интеграция   \n",
       "1017         1243     2022-12-28    2022-12-30    Нативная интеграция   \n",
       "1018         1245     2022-12-29    2022-12-29  Поисковая оптимизация   \n",
       "1019         1246     2022-12-30    2022-12-30              Баннерная   \n",
       "\n",
       "      Платформа  Бюджет         Город  Показы   Клики  Конверсия  Доход  \n",
       "0      Telegram   35693        Казань  3217.0   507.0        188  44205  \n",
       "1     Вконтакте    1986        Москва  1362.0   305.0         95   9964  \n",
       "2     Instagram    2020  Екатеринбург  2420.0   541.0         87  14792  \n",
       "3        Google   18684        Москва   728.0   406.0         73  13824  \n",
       "4     Вконтакте   47936  Екатеринбург   356.0   129.0         31   3908  \n",
       "...         ...     ...           ...     ...     ...        ...    ...  \n",
       "1015  Instagram   24525        Калуга  5610.0   732.0         93  12208  \n",
       "1016   Telegram    2904  Екатеринбург   937.0   199.0         44   2839  \n",
       "1017   Telegram   27913        Казань  9309.0  1280.0        128  30575  \n",
       "1018     Google   23648   Новосибирск   854.0   252.0         71  17632  \n",
       "1019   Telegram    1909  Екатеринбург   848.0   228.0         31   4298  \n",
       "\n",
       "[1020 rows x 11 columns]"
      ]
     },
     "execution_count": 122,
     "metadata": {},
     "output_type": "execute_result"
    }
   ],
   "source": [
    "import pandas as pd\n",
    "\n",
    "df = pd.read_csv('campaign_data.csv')\n",
    "df"
   ]
  },
  {
   "cell_type": "markdown",
   "metadata": {},
   "source": [
    "### Найдите самую эффективную платформу по средним значениям конверсий"
   ]
  },
  {
   "cell_type": "code",
   "execution_count": 123,
   "metadata": {},
   "outputs": [],
   "source": [
    "import csv\n",
    "from collections import namedtuple, defaultdict\n",
    "\n",
    "data = defaultdict(list)\n",
    "\n",
    "with open('campaign_data.csv', 'r', encoding='utf-8') as csvfile:\n",
    "    reader = csv.reader(csvfile, delimiter=',')\n",
    "    header = next(reader)\n",
    "    for csv_data in reader:\n",
    "        data[csv_data[4].strip()].append(int(csv_data[9]))\n",
    "\n",
    "last_max_avg = 0\n",
    "last_max_name = ''\n",
    "for key, values in data.items():\n",
    "    avg = sum(values) / len(values)\n",
    "    if avg > last_max_avg:\n",
    "        last_max_avg = avg\n",
    "        last_max_name = key\n",
    "\n",
    "most_effective_platform = last_max_name"
   ]
  },
  {
   "cell_type": "markdown",
   "metadata": {},
   "source": [
    "**Проверка**"
   ]
  },
  {
   "cell_type": "code",
   "execution_count": 124,
   "metadata": {},
   "outputs": [
    {
     "name": "stdout",
     "output_type": "stream",
     "text": [
      "Поздравляем, Вы справились!\n"
     ]
    }
   ],
   "source": [
    "with open('marketing_campaigns.txt', 'r') as f:\n",
    "    answers = f.read().split('\\n')\n",
    "\n",
    "correct_answer = answers[0]\n",
    "\n",
    "try:\n",
    "    assert most_effective_platform == correct_answer\n",
    "except AssertionError:\n",
    "    print('Ответы не совпадают')\n",
    "else:\n",
    "    print('Поздравляем, Вы справились!')"
   ]
  },
  {
   "cell_type": "markdown",
   "metadata": {},
   "source": [
    "### Cамый успешный тип рекламной кампании по средним значениям конверсий"
   ]
  },
  {
   "cell_type": "code",
   "execution_count": 126,
   "metadata": {},
   "outputs": [],
   "source": [
    "import csv\n",
    "from collections import namedtuple, defaultdict\n",
    "\n",
    "data = defaultdict(list)\n",
    "\n",
    "with open('campaign_data.csv', 'r', encoding='utf-8') as csvfile:\n",
    "    reader = csv.reader(csvfile, delimiter=',')\n",
    "    header = next(reader)\n",
    "    for csv_data in reader:\n",
    "        data[csv_data[3].strip()].append(int(csv_data[10]))\n",
    "\n",
    "last_max_avg = 0\n",
    "last_max_name = ''\n",
    "for key, values in data.items():\n",
    "    avg = sum(values) / len(values)\n",
    "    if avg > last_max_avg:\n",
    "        last_max_avg = avg\n",
    "        last_max_name = key\n",
    "\n",
    "most_successful_campaign_type = last_max_name"
   ]
  },
  {
   "cell_type": "markdown",
   "metadata": {},
   "source": [
    "**Проверка**"
   ]
  },
  {
   "cell_type": "code",
   "execution_count": 127,
   "metadata": {},
   "outputs": [
    {
     "name": "stdout",
     "output_type": "stream",
     "text": [
      "Поздравляем, Вы справились!\n"
     ]
    }
   ],
   "source": [
    "correct_answer = answers[1]\n",
    "\n",
    "try:\n",
    "    assert most_successful_campaign_type == correct_answer\n",
    "except AssertionError:\n",
    "    print('Ответы не совпадают')\n",
    "else:\n",
    "    print('Поздравляем, Вы справились!')"
   ]
  },
  {
   "cell_type": "markdown",
   "metadata": {},
   "source": [
    "### самый успешный город проведения кампании по средним значениям конверсий"
   ]
  },
  {
   "cell_type": "code",
   "execution_count": 129,
   "metadata": {},
   "outputs": [
    {
     "name": "stdout",
     "output_type": "stream",
     "text": [
      "Новосибирск\n"
     ]
    }
   ],
   "source": [
    "import csv\n",
    "from collections import namedtuple, defaultdict\n",
    "\n",
    "data = defaultdict(list)\n",
    "\n",
    "with open('campaign_data.csv', 'r', encoding='utf-8') as csvfile:\n",
    "    reader = csv.reader(csvfile, delimiter=',')\n",
    "    header = next(reader)\n",
    "    for csv_data in reader:\n",
    "        data[csv_data[6].strip()].append(int(csv_data[9]))\n",
    "\n",
    "last_max_avg = 0\n",
    "last_max_name = ''\n",
    "for key, values in data.items():\n",
    "    avg = sum(values) / len(values)\n",
    "    if avg > last_max_avg:\n",
    "        last_max_avg = avg\n",
    "        last_max_name = key\n",
    "\n",
    "print(last_max_name)\n",
    "most_successful_city = last_max_name"
   ]
  },
  {
   "cell_type": "markdown",
   "metadata": {},
   "source": [
    "**Проверка**"
   ]
  },
  {
   "cell_type": "code",
   "execution_count": 130,
   "metadata": {},
   "outputs": [
    {
     "name": "stdout",
     "output_type": "stream",
     "text": [
      "Поздравляем, Вы справились!\n"
     ]
    }
   ],
   "source": [
    "correct_answer = answers[2]\n",
    "\n",
    "try:\n",
    "    assert most_successful_city == correct_answer\n",
    "except AssertionError:\n",
    "    print('Ответы не совпадают')\n",
    "else:\n",
    "    print('Поздравляем, Вы справились!')"
   ]
  },
  {
   "cell_type": "markdown",
   "metadata": {},
   "source": [
    "### Посчитайте долю затрат на рекламные кампании каждой платформы и каждого города"
   ]
  },
  {
   "cell_type": "code",
   "execution_count": 131,
   "metadata": {},
   "outputs": [],
   "source": [
    "import csv\n",
    "from collections import namedtuple, defaultdict\n",
    "\n",
    "data = defaultdict(lambda: defaultdict(int))\n",
    "platform_moneys = defaultdict(int)\n",
    "\n",
    "with open('campaign_data.csv', 'r', encoding='utf-8') as csvfile:\n",
    "    reader = csv.reader(csvfile, delimiter=',')\n",
    "    header = next(reader)\n",
    "    for csv_data in reader:\n",
    "        platform_key = csv_data[4].strip()\n",
    "        city_key = csv_data[6].strip()\n",
    "        money = int(csv_data[5])\n",
    "        data[platform_key][city_key] += money\n",
    "        platform_moneys[platform_key] += money\n",
    "\n",
    "with open('platform_city_results.txt', 'w', encoding='utf-8') as out_file:\n",
    "    for platform_key, cities in data.items():\n",
    "        out_file.write(f'Для группы {platform_key}:\\n')\n",
    "        ordered_cities = sorted(cities.items(), key=lambda x: x[1], reverse=True)\n",
    "        for city_key, moneys in ordered_cities:\n",
    "            s = f'{((moneys/platform_moneys[platform_key])*100):.2f}'.rstrip('0')\n",
    "            out_file.write(f'- Город: {city_key}, доля затрат на рекламу: {s}%\\n')\n"
   ]
  },
  {
   "cell_type": "markdown",
   "metadata": {},
   "source": [
    "**Проверка**"
   ]
  },
  {
   "cell_type": "code",
   "execution_count": 132,
   "metadata": {},
   "outputs": [
    {
     "name": "stdout",
     "output_type": "stream",
     "text": [
      "Поздравляем, Вы справились и успешно прошли все проверки!!\n"
     ]
    }
   ],
   "source": [
    "with open('platform_city_results.txt', 'r') as file:\n",
    "    user_answer = file.readlines()\n",
    "\n",
    "with open('cor_platform.txt', 'r') as file:\n",
    "    correct_answer = file.readlines()\n",
    "\n",
    "try:\n",
    "    assert user_answer == correct_answer, 'Ответы не совпадают'\n",
    "except Exception as err:\n",
    "    raise AssertionError(f'При проверке возникла ошибка {repr(err)}')\n",
    "else:\n",
    "    print('Поздравляем, Вы справились и успешно прошли все проверки!!')"
   ]
  },
  {
   "cell_type": "markdown",
   "metadata": {},
   "source": [
    "### Напишите функцию, которая возвращает средний бюджет всех кампаний, запущенных на определенной платформе"
   ]
  },
  {
   "cell_type": "markdown",
   "metadata": {},
   "source": [
    "Функция `calculate_average_budget` должна принимать путь к файлу и название плафтормы и возвращать число - средний бюджет всех кампаний, \n",
    "запущенных на данной платформе, округленный до двух знаков после запятой."
   ]
  },
  {
   "cell_type": "code",
   "execution_count": 134,
   "metadata": {},
   "outputs": [],
   "source": [
    "import csv\n",
    "from collections import namedtuple, defaultdict\n",
    "\n",
    "\n",
    "def calculate_average_budget(file_path, company_name):\n",
    "    platform_moneys = defaultdict(int)\n",
    "\n",
    "    with open(file_path, 'r', encoding='utf-8') as csvfile:\n",
    "        reader = csv.reader(csvfile, delimiter=',')\n",
    "        header = next(reader)\n",
    "        counter = 0\n",
    "        for csv_data in reader:\n",
    "            platform_key = csv_data[4].strip()\n",
    "            if platform_key != company_name:\n",
    "                continue\n",
    "            money = int(csv_data[5])\n",
    "            platform_moneys[platform_key] += money\n",
    "            counter += 1\n",
    "\n",
    "    return round(platform_moneys[company_name]/counter, 2)\n",
    "    "
   ]
  },
  {
   "cell_type": "markdown",
   "metadata": {},
   "source": [
    "**Проверка**"
   ]
  },
  {
   "cell_type": "code",
   "execution_count": 135,
   "metadata": {},
   "outputs": [
    {
     "name": "stdout",
     "output_type": "stream",
     "text": [
      "Поздравляем, Вы справились!\n"
     ]
    }
   ],
   "source": [
    "correct_answer = answers[3]\n",
    "user_answer = str(calculate_average_budget('campaign_data.csv', 'Google'))\n",
    "\n",
    "try:\n",
    "    assert user_answer == correct_answer\n",
    "except AssertionError:\n",
    "    print('Ответы не совпадают')\n",
    "else:\n",
    "    print('Поздравляем, Вы справились!')"
   ]
  },
  {
   "cell_type": "markdown",
   "metadata": {},
   "source": [
    "### генератор, который будет генерировать даты, в которые НЕ запускались кампании"
   ]
  },
  {
   "cell_type": "code",
   "execution_count": 136,
   "metadata": {},
   "outputs": [],
   "source": [
    "from datetime import datetime, timedelta\n",
    "\n",
    "\n",
    "def get_missing_campaign_dates(file_path):    \n",
    "    dates = []\n",
    "    with open(file_path, 'r', encoding='utf-8') as csvfile:\n",
    "        reader = csv.reader(csvfile, delimiter=',')\n",
    "        header = next(reader)\n",
    "        for csv_data in reader:\n",
    "            dates.append(datetime.strptime(csv_data[1].strip(), \"%Y-%m-%d\"))\n",
    "    \n",
    "    dates.sort()\n",
    "    start, end = dates[0], dates[-1]\n",
    "    date_set = set(dates)\n",
    "    \n",
    "    current = start\n",
    "    while current <= end:\n",
    "        if current not in date_set:\n",
    "            yield current\n",
    "        current += timedelta(days=1)\n",
    "\n",
    "# get_missing_campaign_dates('campaign_data.csv')"
   ]
  },
  {
   "cell_type": "markdown",
   "metadata": {},
   "source": [
    "**Проверка**"
   ]
  },
  {
   "cell_type": "code",
   "execution_count": 137,
   "metadata": {},
   "outputs": [
    {
     "name": "stdout",
     "output_type": "stream",
     "text": [
      "Поздравляем, Вы справились!\n"
     ]
    }
   ],
   "source": [
    "from datetime import date\n",
    "\n",
    "correct_answer = answers[5]\n",
    "\n",
    "missing_dates = get_missing_campaign_dates('campaign_data.csv')\n",
    "user_answer = []\n",
    "for date in missing_dates:\n",
    "    a = date.strftime('%Y-%m-%d')\n",
    "    user_answer.append(a)\n",
    "\n",
    "try:\n",
    "    assert str(user_answer) == correct_answer\n",
    "except AssertionError:\n",
    "    print('Ответы не совпадают')\n",
    "else:\n",
    "    print('Поздравляем, Вы справились!')"
   ]
  },
  {
   "cell_type": "markdown",
   "metadata": {},
   "source": [
    "### Напишите функцию, которая будет принимать на вход путь к файлу и возвращать сгруппированные данные по городам, содержащие суммарный бюджет и количество кликов"
   ]
  },
  {
   "cell_type": "code",
   "execution_count": 138,
   "metadata": {},
   "outputs": [],
   "source": [
    "import csv\n",
    "from collections import namedtuple, defaultdict\n",
    "\n",
    "\n",
    "def group_campaign_data(file_path):\n",
    "\n",
    "    _data = defaultdict(lambda: [0, 0])\n",
    "\n",
    "    with open(file_path, 'r', encoding='utf-8') as csvfile:\n",
    "        reader = csv.reader(csvfile, delimiter=',')\n",
    "        header = next(reader)\n",
    "        for csv_data in reader:\n",
    "            city_key = csv_data[6].strip()\n",
    "            _data[city_key][0] += int(csv_data[5].strip())\n",
    "            _data[city_key][1] += float(csv_data[8].strip())\n",
    "\n",
    "    return [{'Город': k, 'Количество кликов': v[1], 'Суммарный бюджет': v[0]} for k, v in sorted(_data.items())]\n",
    "\n",
    "# group_campaign_data('campaign_data.csv')"
   ]
  },
  {
   "cell_type": "markdown",
   "metadata": {},
   "source": [
    "**Проверка**"
   ]
  },
  {
   "cell_type": "code",
   "execution_count": 139,
   "metadata": {},
   "outputs": [
    {
     "name": "stdout",
     "output_type": "stream",
     "text": [
      "Поздравляем, Вы справились!\n"
     ]
    }
   ],
   "source": [
    "correct_answer = answers[6]\n",
    "user_answer = str(group_campaign_data('campaign_data.csv'))\n",
    "\n",
    "try:\n",
    "    assert user_answer == correct_answer\n",
    "except AssertionError:\n",
    "    print('Ответы не совпадают')\n",
    "else:\n",
    "    print('Поздравляем, Вы справились!')"
   ]
  },
  {
   "cell_type": "markdown",
   "metadata": {},
   "source": [
    "### Напишите генератор, который будет генерировать данные о кампаниях, запущенных в указанном городе и имеющих бюджет выше заданного значения"
   ]
  },
  {
   "cell_type": "code",
   "execution_count": 140,
   "metadata": {},
   "outputs": [],
   "source": [
    "import csv\n",
    "from collections import namedtuple, defaultdict\n",
    "\n",
    "\n",
    "def campaign_generator(file_path, city_name, dudjet_gt):\n",
    "    _data = []\n",
    "    with open(file_path, 'r', encoding='utf-8') as csvfile:\n",
    "        reader = csv.reader(csvfile, delimiter=',')\n",
    "        header = next(reader)\n",
    "        for csv_data in reader:\n",
    "            if csv_data[6].strip() != city_name:\n",
    "                continue\n",
    "            if int(csv_data[5].strip()) < dudjet_gt:\n",
    "                continue\n",
    "            _data.append({\n",
    "                'ID Кампании': csv_data[0].strip(), \n",
    "                'Тип': csv_data[3].strip(), \n",
    "                'Платформа': csv_data[4].strip(), \n",
    "                'Доход': csv_data[10].strip()\n",
    "            })\n",
    "            \n",
    "        for i in _data:\n",
    "            yield i\n",
    "\n",
    "# campaign_generator('campaign_data.csv', 'Казань', 47000)"
   ]
  },
  {
   "cell_type": "markdown",
   "metadata": {},
   "source": [
    "**Проверка 1**"
   ]
  },
  {
   "cell_type": "code",
   "execution_count": 141,
   "metadata": {},
   "outputs": [
    {
     "name": "stdout",
     "output_type": "stream",
     "text": [
      "Поздравляем, Вы справились!\n"
     ]
    }
   ],
   "source": [
    "correct_answer = answers[7]\n",
    "\n",
    "campaigns = campaign_generator('campaign_data.csv', 'Москва', 48000)\n",
    "user_answer = []\n",
    "for campaign in campaigns:\n",
    "    user_answer.append(campaign)\n",
    "\n",
    "try:\n",
    "    assert str(user_answer) == correct_answer\n",
    "except AssertionError:\n",
    "    print('Ответы не совпадают')\n",
    "else:\n",
    "    print('Поздравляем, Вы справились!')"
   ]
  },
  {
   "cell_type": "markdown",
   "metadata": {},
   "source": [
    "**Проверка 2**"
   ]
  },
  {
   "cell_type": "code",
   "execution_count": 142,
   "metadata": {},
   "outputs": [
    {
     "name": "stdout",
     "output_type": "stream",
     "text": [
      "Поздравляем, Вы справились!\n"
     ]
    }
   ],
   "source": [
    "correct_answer = answers[8]\n",
    "\n",
    "campaigns = campaign_generator('campaign_data.csv', 'Казань', 47000)\n",
    "user_answer = []\n",
    "for campaign in campaigns:\n",
    "    user_answer.append(campaign)\n",
    "\n",
    "try:\n",
    "    assert str(user_answer) == correct_answer\n",
    "except AssertionError:\n",
    "    print('Ответы не совпадают')\n",
    "else:\n",
    "    print('Поздравляем, Вы справились!')"
   ]
  }
 ],
 "metadata": {
  "kernelspec": {
   "display_name": "stud",
   "language": "python",
   "name": "python3"
  },
  "language_info": {
   "codemirror_mode": {
    "name": "ipython",
    "version": 3
   },
   "file_extension": ".py",
   "mimetype": "text/x-python",
   "name": "python",
   "nbconvert_exporter": "python",
   "pygments_lexer": "ipython3",
   "version": "3.11.11"
  }
 },
 "nbformat": 4,
 "nbformat_minor": 2
}
