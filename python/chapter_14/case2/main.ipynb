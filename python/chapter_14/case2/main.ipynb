{
 "cells": [
  {
   "cell_type": "markdown",
   "metadata": {},
   "source": [
    "### Перед началом решения задачи выполните следующую ячейку"
   ]
  },
  {
   "cell_type": "code",
   "execution_count": 2,
   "metadata": {},
   "outputs": [
    {
     "name": "stderr",
     "output_type": "stream",
     "text": [
      "--2025-02-14 21:20:28--  https://gist.github.com/Vs8th/73045f9fe675f43ef7e63ab56f1c08bd/raw/campaign_data.csv\n",
      "Resolving gist.github.com (gist.github.com)... 140.82.121.3\n",
      "Connecting to gist.github.com (gist.github.com)|140.82.121.3|:443... connected.\n",
      "HTTP request sent, awaiting response... 301 Moved Permanently\n",
      "Location: https://gist.githubusercontent.com/Vs8th/73045f9fe675f43ef7e63ab56f1c08bd/raw/campaign_data.csv [following]\n",
      "--2025-02-14 21:20:29--  https://gist.githubusercontent.com/Vs8th/73045f9fe675f43ef7e63ab56f1c08bd/raw/campaign_data.csv\n",
      "Resolving gist.githubusercontent.com (gist.githubusercontent.com)... 185.199.108.133, 185.199.109.133, 185.199.110.133, ...\n",
      "Connecting to gist.githubusercontent.com (gist.githubusercontent.com)|185.199.108.133|:443... connected.\n",
      "HTTP request sent, awaiting response... 200 OK\n",
      "Length: 116478 (114K) [text/plain]\n",
      "Saving to: 'campaign_data.csv'\n",
      "\n",
      "     0K .......... .......... .......... .......... .......... 43% 2.74M 0s\n",
      "    50K .......... .......... .......... .......... .......... 87% 8.36M 0s\n",
      "   100K .......... ...                                        100% 87.1M=0.02s\n",
      "\n",
      "2025-02-14 21:20:29 (4.66 MB/s) - 'campaign_data.csv' saved [116478/116478]\n",
      "\n",
      "--2025-02-14 21:20:29--  https://gist.github.com/Vs8th/2d55f7828343a0b5e570b47552c3affe/raw/marketing_campaigns.txt\n",
      "Resolving gist.github.com (gist.github.com)... 140.82.121.3\n",
      "Connecting to gist.github.com (gist.github.com)|140.82.121.3|:443... connected.\n",
      "HTTP request sent, awaiting response... 301 Moved Permanently\n",
      "Location: https://gist.githubusercontent.com/Vs8th/2d55f7828343a0b5e570b47552c3affe/raw/marketing_campaigns.txt [following]\n",
      "--2025-02-14 21:20:29--  https://gist.githubusercontent.com/Vs8th/2d55f7828343a0b5e570b47552c3affe/raw/marketing_campaigns.txt\n",
      "Resolving gist.githubusercontent.com (gist.githubusercontent.com)... 185.199.108.133, 185.199.109.133, 185.199.110.133, ...\n",
      "Connecting to gist.githubusercontent.com (gist.githubusercontent.com)|185.199.108.133|:443... connected.\n",
      "HTTP request sent, awaiting response... 200 OK\n",
      "Length: 2265 (2.2K) [text/plain]\n",
      "Saving to: 'marketing_campaigns.txt'\n",
      "\n",
      "     0K ..                                                    100% 13.8M=0s\n",
      "\n",
      "2025-02-14 21:20:29 (13.8 MB/s) - 'marketing_campaigns.txt' saved [2265/2265]\n",
      "\n",
      "--2025-02-14 21:20:29--  https://gist.github.com/Vs8th/ff57611e607f407b186805ae15b08f1c/raw/cor_platform.txt\n",
      "Resolving gist.github.com (gist.github.com)... 140.82.121.3\n",
      "Connecting to gist.github.com (gist.github.com)|140.82.121.3|:443... connected.\n",
      "HTTP request sent, awaiting response... 301 Moved Permanently\n",
      "Location: https://gist.githubusercontent.com/Vs8th/ff57611e607f407b186805ae15b08f1c/raw/cor_platform.txt [following]\n",
      "--2025-02-14 21:20:30--  https://gist.githubusercontent.com/Vs8th/ff57611e607f407b186805ae15b08f1c/raw/cor_platform.txt\n",
      "Resolving gist.githubusercontent.com (gist.githubusercontent.com)... 185.199.108.133, 185.199.109.133, 185.199.110.133, ...\n",
      "Connecting to gist.githubusercontent.com (gist.githubusercontent.com)|185.199.108.133|:443... connected.\n",
      "HTTP request sent, awaiting response... 200 OK\n",
      "Length: 3580 (3.5K) [text/plain]\n",
      "Saving to: 'cor_platform.txt'\n",
      "\n",
      "     0K ...                                                   100% 13.9M=0s\n",
      "\n",
      "2025-02-14 21:20:30 (13.9 MB/s) - 'cor_platform.txt' saved [3580/3580]\n",
      "\n"
     ]
    }
   ],
   "source": [
    "!wget https://gist.github.com/Vs8th/73045f9fe675f43ef7e63ab56f1c08bd/raw/campaign_data.csv\n",
    "\n",
    "!wget https://gist.github.com/Vs8th/2d55f7828343a0b5e570b47552c3affe/raw/marketing_campaigns.txt\n",
    "\n",
    "!wget https://gist.github.com/Vs8th/ff57611e607f407b186805ae15b08f1c/raw/cor_platform.txt"
   ]
  },
  {
   "cell_type": "code",
   "execution_count": 1,
   "metadata": {},
   "outputs": [
    {
     "data": {
      "text/html": [
       "<div>\n",
       "<style scoped>\n",
       "    .dataframe tbody tr th:only-of-type {\n",
       "        vertical-align: middle;\n",
       "    }\n",
       "\n",
       "    .dataframe tbody tr th {\n",
       "        vertical-align: top;\n",
       "    }\n",
       "\n",
       "    .dataframe thead th {\n",
       "        text-align: right;\n",
       "    }\n",
       "</style>\n",
       "<table border=\"1\" class=\"dataframe\">\n",
       "  <thead>\n",
       "    <tr style=\"text-align: right;\">\n",
       "      <th></th>\n",
       "      <th>ID Кампании</th>\n",
       "      <th>Начальная дата</th>\n",
       "      <th>Конечная дата</th>\n",
       "      <th>Тип кампании</th>\n",
       "      <th>Платформа</th>\n",
       "      <th>Бюджет</th>\n",
       "      <th>Город</th>\n",
       "      <th>Показы</th>\n",
       "      <th>Клики</th>\n",
       "      <th>Конверсия</th>\n",
       "      <th>Доход</th>\n",
       "    </tr>\n",
       "  </thead>\n",
       "  <tbody>\n",
       "    <tr>\n",
       "      <th>0</th>\n",
       "      <td>1</td>\n",
       "      <td>2022-01-01</td>\n",
       "      <td>2022-11-30</td>\n",
       "      <td>Контекстная</td>\n",
       "      <td>Telegram</td>\n",
       "      <td>35693</td>\n",
       "      <td>Казань</td>\n",
       "      <td>3217.0</td>\n",
       "      <td>507.0</td>\n",
       "      <td>188</td>\n",
       "      <td>44205</td>\n",
       "    </tr>\n",
       "    <tr>\n",
       "      <th>1</th>\n",
       "      <td>2</td>\n",
       "      <td>2022-01-01</td>\n",
       "      <td>2022-08-27</td>\n",
       "      <td>Поисковая оптимизация</td>\n",
       "      <td>Вконтакте</td>\n",
       "      <td>1986</td>\n",
       "      <td>Москва</td>\n",
       "      <td>1362.0</td>\n",
       "      <td>305.0</td>\n",
       "      <td>95</td>\n",
       "      <td>9964</td>\n",
       "    </tr>\n",
       "    <tr>\n",
       "      <th>2</th>\n",
       "      <td>3</td>\n",
       "      <td>2022-01-02</td>\n",
       "      <td>2022-03-11</td>\n",
       "      <td>Баннерная</td>\n",
       "      <td>Instagram</td>\n",
       "      <td>2020</td>\n",
       "      <td>Екатеринбург</td>\n",
       "      <td>2420.0</td>\n",
       "      <td>541.0</td>\n",
       "      <td>87</td>\n",
       "      <td>14792</td>\n",
       "    </tr>\n",
       "    <tr>\n",
       "      <th>3</th>\n",
       "      <td>4</td>\n",
       "      <td>2022-01-02</td>\n",
       "      <td>2022-06-20</td>\n",
       "      <td>Видеореклама</td>\n",
       "      <td>Google</td>\n",
       "      <td>18684</td>\n",
       "      <td>Москва</td>\n",
       "      <td>728.0</td>\n",
       "      <td>406.0</td>\n",
       "      <td>73</td>\n",
       "      <td>13824</td>\n",
       "    </tr>\n",
       "    <tr>\n",
       "      <th>4</th>\n",
       "      <td>8</td>\n",
       "      <td>2022-01-04</td>\n",
       "      <td>2022-12-06</td>\n",
       "      <td>Поисковая оптимизация</td>\n",
       "      <td>Вконтакте</td>\n",
       "      <td>47936</td>\n",
       "      <td>Екатеринбург</td>\n",
       "      <td>356.0</td>\n",
       "      <td>129.0</td>\n",
       "      <td>31</td>\n",
       "      <td>3908</td>\n",
       "    </tr>\n",
       "    <tr>\n",
       "      <th>...</th>\n",
       "      <td>...</td>\n",
       "      <td>...</td>\n",
       "      <td>...</td>\n",
       "      <td>...</td>\n",
       "      <td>...</td>\n",
       "      <td>...</td>\n",
       "      <td>...</td>\n",
       "      <td>...</td>\n",
       "      <td>...</td>\n",
       "      <td>...</td>\n",
       "      <td>...</td>\n",
       "    </tr>\n",
       "    <tr>\n",
       "      <th>1015</th>\n",
       "      <td>1240</td>\n",
       "      <td>2022-12-28</td>\n",
       "      <td>2022-12-29</td>\n",
       "      <td>Видеореклама</td>\n",
       "      <td>Instagram</td>\n",
       "      <td>24525</td>\n",
       "      <td>Калуга</td>\n",
       "      <td>5610.0</td>\n",
       "      <td>732.0</td>\n",
       "      <td>93</td>\n",
       "      <td>12208</td>\n",
       "    </tr>\n",
       "    <tr>\n",
       "      <th>1016</th>\n",
       "      <td>1241</td>\n",
       "      <td>2022-12-28</td>\n",
       "      <td>2022-12-29</td>\n",
       "      <td>Нативная интеграция</td>\n",
       "      <td>Telegram</td>\n",
       "      <td>2904</td>\n",
       "      <td>Екатеринбург</td>\n",
       "      <td>937.0</td>\n",
       "      <td>199.0</td>\n",
       "      <td>44</td>\n",
       "      <td>2839</td>\n",
       "    </tr>\n",
       "    <tr>\n",
       "      <th>1017</th>\n",
       "      <td>1243</td>\n",
       "      <td>2022-12-28</td>\n",
       "      <td>2022-12-30</td>\n",
       "      <td>Нативная интеграция</td>\n",
       "      <td>Telegram</td>\n",
       "      <td>27913</td>\n",
       "      <td>Казань</td>\n",
       "      <td>9309.0</td>\n",
       "      <td>1280.0</td>\n",
       "      <td>128</td>\n",
       "      <td>30575</td>\n",
       "    </tr>\n",
       "    <tr>\n",
       "      <th>1018</th>\n",
       "      <td>1245</td>\n",
       "      <td>2022-12-29</td>\n",
       "      <td>2022-12-29</td>\n",
       "      <td>Поисковая оптимизация</td>\n",
       "      <td>Google</td>\n",
       "      <td>23648</td>\n",
       "      <td>Новосибирск</td>\n",
       "      <td>854.0</td>\n",
       "      <td>252.0</td>\n",
       "      <td>71</td>\n",
       "      <td>17632</td>\n",
       "    </tr>\n",
       "    <tr>\n",
       "      <th>1019</th>\n",
       "      <td>1246</td>\n",
       "      <td>2022-12-30</td>\n",
       "      <td>2022-12-30</td>\n",
       "      <td>Баннерная</td>\n",
       "      <td>Telegram</td>\n",
       "      <td>1909</td>\n",
       "      <td>Екатеринбург</td>\n",
       "      <td>848.0</td>\n",
       "      <td>228.0</td>\n",
       "      <td>31</td>\n",
       "      <td>4298</td>\n",
       "    </tr>\n",
       "  </tbody>\n",
       "</table>\n",
       "<p>1020 rows × 11 columns</p>\n",
       "</div>"
      ],
      "text/plain": [
       "      ID Кампании Начальная дата Конечная дата           Тип кампании  \\\n",
       "0               1     2022-01-01    2022-11-30            Контекстная   \n",
       "1               2     2022-01-01    2022-08-27  Поисковая оптимизация   \n",
       "2               3     2022-01-02    2022-03-11              Баннерная   \n",
       "3               4     2022-01-02    2022-06-20           Видеореклама   \n",
       "4               8     2022-01-04    2022-12-06  Поисковая оптимизация   \n",
       "...           ...            ...           ...                    ...   \n",
       "1015         1240     2022-12-28    2022-12-29           Видеореклама   \n",
       "1016         1241     2022-12-28    2022-12-29    Нативная интеграция   \n",
       "1017         1243     2022-12-28    2022-12-30    Нативная интеграция   \n",
       "1018         1245     2022-12-29    2022-12-29  Поисковая оптимизация   \n",
       "1019         1246     2022-12-30    2022-12-30              Баннерная   \n",
       "\n",
       "      Платформа  Бюджет         Город  Показы   Клики  Конверсия  Доход  \n",
       "0      Telegram   35693        Казань  3217.0   507.0        188  44205  \n",
       "1     Вконтакте    1986        Москва  1362.0   305.0         95   9964  \n",
       "2     Instagram    2020  Екатеринбург  2420.0   541.0         87  14792  \n",
       "3        Google   18684        Москва   728.0   406.0         73  13824  \n",
       "4     Вконтакте   47936  Екатеринбург   356.0   129.0         31   3908  \n",
       "...         ...     ...           ...     ...     ...        ...    ...  \n",
       "1015  Instagram   24525        Калуга  5610.0   732.0         93  12208  \n",
       "1016   Telegram    2904  Екатеринбург   937.0   199.0         44   2839  \n",
       "1017   Telegram   27913        Казань  9309.0  1280.0        128  30575  \n",
       "1018     Google   23648   Новосибирск   854.0   252.0         71  17632  \n",
       "1019   Telegram    1909  Екатеринбург   848.0   228.0         31   4298  \n",
       "\n",
       "[1020 rows x 11 columns]"
      ]
     },
     "execution_count": 1,
     "metadata": {},
     "output_type": "execute_result"
    }
   ],
   "source": [
    "import pandas as pd\n",
    "\n",
    "df = pd.read_csv('campaign_data.csv')\n",
    "df"
   ]
  },
  {
   "cell_type": "markdown",
   "metadata": {},
   "source": [
    "### Найдите самую эффективную платформу по средним значениям конверсий"
   ]
  },
  {
   "cell_type": "code",
   "execution_count": 2,
   "metadata": {},
   "outputs": [],
   "source": [
    "import csv\n",
    "from collections import namedtuple, defaultdict\n",
    "\n",
    "data = defaultdict(list)\n",
    "\n",
    "with open('campaign_data.csv', 'r', encoding='utf-8') as csvfile:\n",
    "    reader = csv.reader(csvfile, delimiter=',')\n",
    "    header = next(reader)\n",
    "    for csv_data in reader:\n",
    "        data[csv_data[4].strip()].append(int(csv_data[9]))\n",
    "\n",
    "last_max_avg = 0\n",
    "last_max_name = ''\n",
    "for key, values in data.items():\n",
    "    avg = sum(values) / len(values)\n",
    "    if avg > last_max_avg:\n",
    "        last_max_avg = avg\n",
    "        last_max_name = key\n",
    "\n",
    "most_effective_platform = last_max_name"
   ]
  },
  {
   "cell_type": "markdown",
   "metadata": {},
   "source": [
    "**Проверка**"
   ]
  },
  {
   "cell_type": "code",
   "execution_count": 3,
   "metadata": {},
   "outputs": [
    {
     "name": "stdout",
     "output_type": "stream",
     "text": [
      "Поздравляем, Вы справились!\n"
     ]
    }
   ],
   "source": [
    "with open('marketing_campaigns.txt', 'r') as f:\n",
    "    answers = f.read().split('\\n')\n",
    "\n",
    "correct_answer = answers[0]\n",
    "\n",
    "try:\n",
    "    assert most_effective_platform == correct_answer\n",
    "except AssertionError:\n",
    "    print('Ответы не совпадают')\n",
    "else:\n",
    "    print('Поздравляем, Вы справились!')"
   ]
  },
  {
   "cell_type": "markdown",
   "metadata": {},
   "source": [
    "### Cамый успешный тип рекламной кампании по средним значениям конверсий"
   ]
  },
  {
   "cell_type": "code",
   "execution_count": 4,
   "metadata": {},
   "outputs": [],
   "source": [
    "import csv\n",
    "from collections import namedtuple, defaultdict\n",
    "\n",
    "data = defaultdict(list)\n",
    "\n",
    "with open('campaign_data.csv', 'r', encoding='utf-8') as csvfile:\n",
    "    reader = csv.reader(csvfile, delimiter=',')\n",
    "    header = next(reader)\n",
    "    for csv_data in reader:\n",
    "        data[csv_data[3].strip()].append(int(csv_data[10]))\n",
    "\n",
    "last_max_avg = 0\n",
    "last_max_name = ''\n",
    "for key, values in data.items():\n",
    "    avg = sum(values) / len(values)\n",
    "    if avg > last_max_avg:\n",
    "        last_max_avg = avg\n",
    "        last_max_name = key\n",
    "\n",
    "most_successful_campaign_type = last_max_name"
   ]
  },
  {
   "cell_type": "markdown",
   "metadata": {},
   "source": [
    "**Проверка**"
   ]
  },
  {
   "cell_type": "code",
   "execution_count": 5,
   "metadata": {},
   "outputs": [
    {
     "name": "stdout",
     "output_type": "stream",
     "text": [
      "Поздравляем, Вы справились!\n"
     ]
    }
   ],
   "source": [
    "correct_answer = answers[1]\n",
    "\n",
    "try:\n",
    "    assert most_successful_campaign_type == correct_answer\n",
    "except AssertionError:\n",
    "    print('Ответы не совпадают')\n",
    "else:\n",
    "    print('Поздравляем, Вы справились!')"
   ]
  },
  {
   "cell_type": "markdown",
   "metadata": {},
   "source": [
    "### самый успешный город проведения кампании по средним значениям конверсий"
   ]
  },
  {
   "cell_type": "code",
   "execution_count": 6,
   "metadata": {},
   "outputs": [
    {
     "name": "stdout",
     "output_type": "stream",
     "text": [
      "Новосибирск\n"
     ]
    }
   ],
   "source": [
    "import csv\n",
    "from collections import namedtuple, defaultdict\n",
    "\n",
    "data = defaultdict(list)\n",
    "\n",
    "with open('campaign_data.csv', 'r', encoding='utf-8') as csvfile:\n",
    "    reader = csv.reader(csvfile, delimiter=',')\n",
    "    header = next(reader)\n",
    "    for csv_data in reader:\n",
    "        data[csv_data[6].strip()].append(int(csv_data[9]))\n",
    "\n",
    "last_max_avg = 0\n",
    "last_max_name = ''\n",
    "for key, values in data.items():\n",
    "    avg = sum(values) / len(values)\n",
    "    if avg > last_max_avg:\n",
    "        last_max_avg = avg\n",
    "        last_max_name = key\n",
    "\n",
    "print(last_max_name)\n",
    "most_successful_city = last_max_name"
   ]
  },
  {
   "cell_type": "markdown",
   "metadata": {},
   "source": [
    "**Проверка**"
   ]
  },
  {
   "cell_type": "code",
   "execution_count": 7,
   "metadata": {},
   "outputs": [
    {
     "name": "stdout",
     "output_type": "stream",
     "text": [
      "Поздравляем, Вы справились!\n"
     ]
    }
   ],
   "source": [
    "correct_answer = answers[2]\n",
    "\n",
    "try:\n",
    "    assert most_successful_city == correct_answer\n",
    "except AssertionError:\n",
    "    print('Ответы не совпадают')\n",
    "else:\n",
    "    print('Поздравляем, Вы справились!')"
   ]
  },
  {
   "cell_type": "markdown",
   "metadata": {},
   "source": [
    "### Посчитайте долю затрат на рекламные кампании каждой платформы и каждого города"
   ]
  },
  {
   "cell_type": "markdown",
   "metadata": {},
   "source": [
    "Сохраните результат в файл platform_city_results.txt\n",
    "\n",
    "Результат должен иметь такой же порядок групп, что и изначальный файл. А города внутри платформ должны быть отсортированы по убыванию доли затрат, а доля затрат должны быть округлена до 2 знаков после запятой."
   ]
  },
  {
   "cell_type": "markdown",
   "metadata": {},
   "source": [
    "Результат должен выглядеть примерно так:\n",
    "\n",
    "```\n",
    "Для группы Telegram:\n",
    "- Город: Москва, доля затрат на рекламу: 16.46%\n",
    "- Город: Калуга, доля затрат на рекламу: 16.2%\n",
    "- Город: Казань, доля затрат на рекламу: 14.57%\n",
    "- ...\n",
    "Для группы Вконтакте:\n",
    "- Город: Екатеринбург, доля затрат на рекламу: 17.43%\n",
    "- Город: Новосибирск, доля затрат на рекламу: 14.86%\n",
    "- Город: Санкт-Петербург, доля затрат на рекламу: 14.13%\n",
    "...\n",
    "```"
   ]
  },
  {
   "cell_type": "code",
   "execution_count": null,
   "metadata": {},
   "outputs": [
    {
     "name": "stdout",
     "output_type": "stream",
     "text": [
      "Для группы Telegram:\n",
      "- Город: Казань, доля затрат на рекламу: 28.00%\n",
      "- Город: Краснодар, доля затрат на рекламу: 19.00%\n",
      "- Город: Москва, доля затрат на рекламу: 35.00%\n",
      "- Город: Екатеринбург, доля затрат на рекламу: 29.00%\n",
      "- Город: Санкт-Петербург, доля затрат на рекламу: 18.00%\n",
      "- Город: Калуга, доля затрат на рекламу: 33.00%\n",
      "- Город: Новосибирск, доля затрат на рекламу: 23.00%\n",
      "- Город: Нижний Новгород, доля затрат на рекламу: 20.00%\n",
      "Для группы Вконтакте:\n",
      "- Город: Москва, доля затрат на рекламу: 27.00%\n",
      "- Город: Екатеринбург, доля затрат на рекламу: 41.00%\n",
      "- Город: Санкт-Петербург, доля затрат на рекламу: 32.00%\n",
      "- Город: Краснодар, доля затрат на рекламу: 25.00%\n",
      "- Город: Калуга, доля затрат на рекламу: 27.00%\n",
      "- Город: Казань, доля затрат на рекламу: 23.00%\n",
      "- Город: Новосибирск, доля затрат на рекламу: 31.00%\n",
      "- Город: Нижний Новгород, доля затрат на рекламу: 22.00%\n",
      "Для группы Instagram:\n",
      "- Город: Екатеринбург, доля затрат на рекламу: 27.00%\n",
      "- Город: Нижний Новгород, доля затрат на рекламу: 33.00%\n",
      "- Город: Краснодар, доля затрат на рекламу: 30.00%\n",
      "- Город: Москва, доля затрат на рекламу: 24.00%\n",
      "- Город: Новосибирск, доля затрат на рекламу: 30.00%\n",
      "- Город: Калуга, доля затрат на рекламу: 24.00%\n",
      "- Город: Казань, доля затрат на рекламу: 28.00%\n",
      "- Город: Санкт-Петербург, доля затрат на рекламу: 24.00%\n",
      "Для группы Google:\n",
      "- Город: Москва, доля затрат на рекламу: 21.00%\n",
      "- Город: Екатеринбург, доля затрат на рекламу: 30.00%\n",
      "- Город: Калуга, доля затрат на рекламу: 19.00%\n",
      "- Город: Новосибирск, доля затрат на рекламу: 25.00%\n",
      "- Город: Краснодар, доля затрат на рекламу: 27.00%\n",
      "- Город: Нижний Новгород, доля затрат на рекламу: 20.00%\n",
      "- Город: Казань, доля затрат на рекламу: 21.00%\n",
      "- Город: Санкт-Петербург, доля затрат на рекламу: 21.00%\n",
      "Для группы Яндекс:\n",
      "- Город: Нижний Новгород, доля затрат на рекламу: 20.00%\n",
      "- Город: Москва, доля затрат на рекламу: 21.00%\n",
      "- Город: Санкт-Петербург, доля затрат на рекламу: 27.00%\n",
      "- Город: Казань, доля затрат на рекламу: 24.00%\n",
      "- Город: Калуга, доля затрат на рекламу: 26.00%\n",
      "- Город: Краснодар, доля затрат на рекламу: 21.00%\n",
      "- Город: Екатеринбург, доля затрат на рекламу: 25.00%\n",
      "- Город: Новосибирск, доля затрат на рекламу: 19.00%\n",
      "\n"
     ]
    }
   ],
   "source": [
    "import csv\n",
    "from collections import namedtuple, defaultdict\n",
    "\n",
    "data = defaultdict(lambda: defaultdict(list))\n",
    "\n",
    "with open('campaign_data.csv', 'r', encoding='utf-8') as csvfile:\n",
    "    reader = csv.reader(csvfile, delimiter=',')\n",
    "    header = next(reader)\n",
    "    for csv_data in reader:\n",
    "        company_key = csv_data[4].strip()\n",
    "        city_key = csv_data[6].strip()\n",
    "        money = int(csv_data[5])\n",
    "        data[company_key][city_key].append(money)        \n",
    "\n",
    "last_max_avg = 0\n",
    "last_max_name = ''\n",
    "for company_key, cities in data.items():\n",
    "    print(f'Для группы {company_key}:')\n",
    "    for city_key, moneys in cities.items():\n",
    "        print(f'- Город: {city_key}, доля затрат на рекламу: {len(moneys):.2f}%')\n",
    "\n",
    "    # avg = sum(values) / len(values)\n",
    "    # if avg > last_max_avg:\n",
    "    #     last_max_avg = avg\n",
    "    #     last_max_name = key\n",
    "\n",
    "print(last_max_name)\n",
    "most_successful_city = last_max_name"
   ]
  },
  {
   "cell_type": "markdown",
   "metadata": {},
   "source": [
    "**Проверка**"
   ]
  },
  {
   "cell_type": "code",
   "execution_count": 40,
   "metadata": {},
   "outputs": [
    {
     "ename": "FileNotFoundError",
     "evalue": "[Errno 2] No such file or directory: 'platform_city_results.txt'",
     "output_type": "error",
     "traceback": [
      "\u001b[1;31m---------------------------------------------------------------------------\u001b[0m",
      "\u001b[1;31mFileNotFoundError\u001b[0m                         Traceback (most recent call last)",
      "Cell \u001b[1;32mIn[40], line 1\u001b[0m\n\u001b[1;32m----> 1\u001b[0m \u001b[38;5;28;01mwith\u001b[39;00m \u001b[38;5;28;43mopen\u001b[39;49m\u001b[43m(\u001b[49m\u001b[38;5;124;43m'\u001b[39;49m\u001b[38;5;124;43mplatform_city_results.txt\u001b[39;49m\u001b[38;5;124;43m'\u001b[39;49m\u001b[43m,\u001b[49m\u001b[43m \u001b[49m\u001b[38;5;124;43m'\u001b[39;49m\u001b[38;5;124;43mr\u001b[39;49m\u001b[38;5;124;43m'\u001b[39;49m\u001b[43m)\u001b[49m \u001b[38;5;28;01mas\u001b[39;00m file:\n\u001b[0;32m      2\u001b[0m     user_answer \u001b[38;5;241m=\u001b[39m file\u001b[38;5;241m.\u001b[39mreadlines()\n\u001b[0;32m      4\u001b[0m \u001b[38;5;28;01mwith\u001b[39;00m \u001b[38;5;28mopen\u001b[39m(\u001b[38;5;124m'\u001b[39m\u001b[38;5;124mcor_platform.txt\u001b[39m\u001b[38;5;124m'\u001b[39m, \u001b[38;5;124m'\u001b[39m\u001b[38;5;124mr\u001b[39m\u001b[38;5;124m'\u001b[39m) \u001b[38;5;28;01mas\u001b[39;00m file:\n",
      "File \u001b[1;32mc:\\ProgramData\\miniconda3\\envs\\stud\\Lib\\site-packages\\IPython\\core\\interactiveshell.py:324\u001b[0m, in \u001b[0;36m_modified_open\u001b[1;34m(file, *args, **kwargs)\u001b[0m\n\u001b[0;32m    317\u001b[0m \u001b[38;5;28;01mif\u001b[39;00m file \u001b[38;5;129;01min\u001b[39;00m {\u001b[38;5;241m0\u001b[39m, \u001b[38;5;241m1\u001b[39m, \u001b[38;5;241m2\u001b[39m}:\n\u001b[0;32m    318\u001b[0m     \u001b[38;5;28;01mraise\u001b[39;00m \u001b[38;5;167;01mValueError\u001b[39;00m(\n\u001b[0;32m    319\u001b[0m         \u001b[38;5;124mf\u001b[39m\u001b[38;5;124m\"\u001b[39m\u001b[38;5;124mIPython won\u001b[39m\u001b[38;5;124m'\u001b[39m\u001b[38;5;124mt let you open fd=\u001b[39m\u001b[38;5;132;01m{\u001b[39;00mfile\u001b[38;5;132;01m}\u001b[39;00m\u001b[38;5;124m by default \u001b[39m\u001b[38;5;124m\"\u001b[39m\n\u001b[0;32m    320\u001b[0m         \u001b[38;5;124m\"\u001b[39m\u001b[38;5;124mas it is likely to crash IPython. If you know what you are doing, \u001b[39m\u001b[38;5;124m\"\u001b[39m\n\u001b[0;32m    321\u001b[0m         \u001b[38;5;124m\"\u001b[39m\u001b[38;5;124myou can use builtins\u001b[39m\u001b[38;5;124m'\u001b[39m\u001b[38;5;124m open.\u001b[39m\u001b[38;5;124m\"\u001b[39m\n\u001b[0;32m    322\u001b[0m     )\n\u001b[1;32m--> 324\u001b[0m \u001b[38;5;28;01mreturn\u001b[39;00m \u001b[43mio_open\u001b[49m\u001b[43m(\u001b[49m\u001b[43mfile\u001b[49m\u001b[43m,\u001b[49m\u001b[43m \u001b[49m\u001b[38;5;241;43m*\u001b[39;49m\u001b[43margs\u001b[49m\u001b[43m,\u001b[49m\u001b[43m \u001b[49m\u001b[38;5;241;43m*\u001b[39;49m\u001b[38;5;241;43m*\u001b[39;49m\u001b[43mkwargs\u001b[49m\u001b[43m)\u001b[49m\n",
      "\u001b[1;31mFileNotFoundError\u001b[0m: [Errno 2] No such file or directory: 'platform_city_results.txt'"
     ]
    }
   ],
   "source": [
    "with open('platform_city_results.txt', 'r') as file:\n",
    "    user_answer = file.readlines()\n",
    "\n",
    "with open('cor_platform.txt', 'r') as file:\n",
    "    correct_answer = file.readlines()\n",
    "\n",
    "try:\n",
    "    assert user_answer == correct_answer, 'Ответы не совпадают'\n",
    "except Exception as err:\n",
    "    raise AssertionError(f'При проверке возникла ошибка {repr(err)}')\n",
    "else:\n",
    "    print('Поздравляем, Вы справились и успешно прошли все проверки!!')"
   ]
  }
 ],
 "metadata": {
  "kernelspec": {
   "display_name": "stud",
   "language": "python",
   "name": "python3"
  },
  "language_info": {
   "codemirror_mode": {
    "name": "ipython",
    "version": 3
   },
   "file_extension": ".py",
   "mimetype": "text/x-python",
   "name": "python",
   "nbconvert_exporter": "python",
   "pygments_lexer": "ipython3",
   "version": "3.11.11"
  }
 },
 "nbformat": 4,
 "nbformat_minor": 2
}
