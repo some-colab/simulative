{
 "cells": [
  {
   "cell_type": "markdown",
   "metadata": {},
   "source": [
    "## Задача 1"
   ]
  },
  {
   "cell_type": "markdown",
   "metadata": {},
   "source": [
    "**Перед написанием кода, выполните следующую ячейку**"
   ]
  },
  {
   "cell_type": "code",
   "execution_count": null,
   "metadata": {},
   "outputs": [],
   "source": [
    "!wget https://gist.github.com/Vs8th/aafed81d81678c807a3ad3dbf93588b2/raw/user.py\n",
    "\n",
    "!wget https://gist.github.com/Vs8th/95f7897019a4213c76e5b65234d31e30/raw/etalon.py\n",
    "\n",
    "!wget https://gist.github.com/Vs8th/59f797dfbd33f9a4be1e5ed43bb42f4d/raw/res_cor.txt"
   ]
  },
  {
   "cell_type": "markdown",
   "metadata": {},
   "source": [
    "**Решение**"
   ]
  },
  {
   "cell_type": "code",
   "execution_count": 39,
   "metadata": {},
   "outputs": [],
   "source": [
    "import importlib\n",
    "\n",
    "\n",
    "def run_tests(standard_code, user_code, test_cases, output_file):\n",
    "    # methods_to_run = [f for f in dir(standard_code) if not f.startswith('_')]\n",
    "    # for m in methods_to_run:\n",
    "    #     func = getattr(user_code, m, None)\n",
    "    #     if callable(func):\n",
    "    #         result = func(1, 2, 3)\n",
    "    #         print(\"Результат вызова:\", result)\n",
    "\n",
    "    output_lines = []\n",
    "    for t in test_cases:\n",
    "        try:\n",
    "            st_result = standard_code.add(*t)\n",
    "            us_result = user_code.add_numbers(*t)\n",
    "            if st_result != us_result:\n",
    "                output_lines.append('Тест не пройден\\n')\n",
    "                output_lines.append(f'Ожидаемый результат: {st_result}\\n')\n",
    "                output_lines.append(f'Результат пользователя: {us_result}\\n')\n",
    "        except Exception as e:\n",
    "            output_lines.append(f'Ошибка при выполнении кода пользователя: {e}\\n')\n",
    "            break\n",
    "    \n",
    "\n",
    "    with open(output_file, 'w', encoding='utf-8') as out_file:\n",
    "        out_file.writelines(output_lines)\n",
    "\n",
    "standard_module = importlib.import_module('etalon')\n",
    "user_module = importlib.import_module('user')\n",
    "test_cases = [(1, 2), (3, 4), (5, 6)]\n",
    "output_file = 'output.txt'\n",
    "run_tests(standard_module, user_module, test_cases, output_file)"
   ]
  },
  {
   "cell_type": "markdown",
   "metadata": {},
   "source": [
    "**Проверка**"
   ]
  },
  {
   "cell_type": "code",
   "execution_count": 40,
   "metadata": {},
   "outputs": [
    {
     "name": "stdout",
     "output_type": "stream",
     "text": [
      "Поздравляем, Вы справились!\n"
     ]
    }
   ],
   "source": [
    "with open('output.txt', 'r') as file1:\n",
    "    res1 = file1.read()\n",
    "\n",
    "with open('res_cor.txt', 'r') as file2:\n",
    "    res2 = file2.read()\n",
    "\n",
    "try:\n",
    "    assert res1 == res2\n",
    "except AssertionError:\n",
    "    print('Ответы не совпадают')\n",
    "else:\n",
    "    print('Поздравляем, Вы справились!')"
   ]
  },
  {
   "cell_type": "markdown",
   "metadata": {},
   "source": [
    "## Задача 2"
   ]
  },
  {
   "cell_type": "markdown",
   "metadata": {},
   "source": [
    "**Перед написанием кода, выполните следующую ячейку**"
   ]
  },
  {
   "cell_type": "code",
   "execution_count": null,
   "metadata": {},
   "outputs": [],
   "source": [
    "!wget https://gist.github.com/Vs8th/9f6a2c73c755cfcc088c7835ec4fb2c0/raw/user_malicious.py"
   ]
  },
  {
   "cell_type": "markdown",
   "metadata": {},
   "source": [
    "**Решение**"
   ]
  },
  {
   "cell_type": "code",
   "execution_count": 37,
   "metadata": {},
   "outputs": [],
   "source": [
    "import importlib, ast, inspect\n",
    "\n",
    "def run_tests(standard_code, user_code, test_cases, output_file):\n",
    "    output_lines = []\n",
    "    for t in test_cases:\n",
    "        try:\n",
    "            st_result = standard_code.add(*t)\n",
    "            us_result = user_code.add_numbers(*t)\n",
    "            if st_result != us_result:\n",
    "                output_lines.append('Тест не пройден\\n')\n",
    "                output_lines.append(f'Ожидаемый результат: {st_result}\\n')\n",
    "                output_lines.append(f'Результат пользователя: {us_result}\\n')\n",
    "        except Exception as e:\n",
    "            output_lines.append(f'Ошибка при выполнении кода пользователя: {e}\\n')\n",
    "            break\n",
    "    \n",
    "\n",
    "    with open(output_file, 'w', encoding='utf-8') as out_file:\n",
    "        out_file.writelines(output_lines)\n",
    "\n",
    "def check_for_malicious_code(code, output_file):\n",
    "    \n",
    "    FORBIDDEN_NAMES = [\"exec\"]\n",
    "\n",
    "    try:\n",
    "        tree = ast.parse(code)\n",
    "        \n",
    "        for node in ast.walk(tree):\n",
    "            if isinstance(node, ast.Name) and node.id in FORBIDDEN_NAMES:\n",
    "                raise ValueError(f\"Код содержит запрещенный атрибут: {node.id}\")\n",
    "            \n",
    "            if isinstance(node, ast.Call) and isinstance(node.func, ast.Name) and node.func.id == \"eval\":\n",
    "                if len(node.args) == 0 and len(node.keywords) == 0:\n",
    "                    raise ValueError(\"Код содержит вызов eval()\")\n",
    "    \n",
    "    except SyntaxError as se:\n",
    "        error_message = f\"Код содержит синтаксическую ошибку: {type(se).__name__}\"\n",
    "        return error_message\n",
    "    \n",
    "    except ValueError as ve:\n",
    "        error_message = str(ve)\n",
    "        return error_message\n",
    "    \n",
    "    except Exception as e:\n",
    "        error_message = f\"Код содержит вредоносные элементы: {e}\"\n",
    "        return error_message\n",
    "\n",
    "user_module = importlib.import_module('user_malicious')\n",
    "standard_module = importlib.import_module('etalon')\n",
    "test_cases = [(1, 2), (3, 4), (5, 6)]\n",
    "output_file = 'output2.txt'\n",
    "\n",
    "malicious_code_message = check_for_malicious_code(inspect.getsource(user_module), output_file)\n",
    "if malicious_code_message:\n",
    "    with open(output_file, 'w') as f:\n",
    "        f.write(\"Ошибка при проверке модуля user_malicious:\\n\")\n",
    "        f.write(malicious_code_message)\n",
    "else:\n",
    "    run_tests(standard_module, user_module, test_cases, output_file)"
   ]
  },
  {
   "cell_type": "markdown",
   "metadata": {},
   "source": [
    "**Проверка**"
   ]
  },
  {
   "cell_type": "markdown",
   "metadata": {},
   "source": [
    "**Перед написанием кода, выполните следующую ячейку**"
   ]
  },
  {
   "cell_type": "code",
   "execution_count": null,
   "metadata": {},
   "outputs": [],
   "source": [
    "!wget https://gist.github.com/Vs8th/5197125c5ef1e1b34b7d73adccdaf4bb/raw/cor_output_2.txt"
   ]
  },
  {
   "cell_type": "code",
   "execution_count": 38,
   "metadata": {},
   "outputs": [
    {
     "name": "stdout",
     "output_type": "stream",
     "text": [
      "Поздравляем, Вы справились!\n"
     ]
    }
   ],
   "source": [
    "with open('output2.txt', 'r') as file1:\n",
    "    res1 = file1.read()\n",
    "\n",
    "with open('cor_output_2.txt', 'r') as file2:\n",
    "    res2 = file2.read()\n",
    "\n",
    "try:\n",
    "    assert res1== res2\n",
    "except AssertionError:\n",
    "    print('Ответы не совпадают')\n",
    "else:\n",
    "    print('Поздравляем, Вы справились!')"
   ]
  },
  {
   "cell_type": "markdown",
   "metadata": {},
   "source": [
    "## Задача 3"
   ]
  },
  {
   "cell_type": "markdown",
   "metadata": {},
   "source": [
    "**Перед написанием кода, выполните следующую ячейку**"
   ]
  },
  {
   "cell_type": "code",
   "execution_count": null,
   "metadata": {},
   "outputs": [],
   "source": [
    "!wget https://gist.github.com/Vs8th/4aba49489a8b0843ef85c4a1a93f923d/raw/user_inf.py"
   ]
  },
  {
   "cell_type": "markdown",
   "metadata": {},
   "source": [
    "**Решение**"
   ]
  },
  {
   "cell_type": "code",
   "execution_count": null,
   "metadata": {},
   "outputs": [],
   "source": [
    "import importlib, ast, inspect, time, multiprocessing, math\n",
    "\n",
    "FORBIDDEN_NAMES = ['eval']\n",
    "\n",
    "def check_for_malicious_code(code, output_file):\n",
    "    try:\n",
    "        tree = ast.parse(code)        \n",
    "        for node in ast.walk(tree):\n",
    "            if isinstance(node, ast.Name) and node.id in FORBIDDEN_NAMES:\n",
    "                raise ValueError(f\"Код содержит запрещенный атрибут: {node.id}\")            \n",
    "            if isinstance(node, ast.Call) and isinstance(node.func, ast.Name) and node.func.id == \"eval\":\n",
    "                if len(node.args) == 0 and len(node.keywords) == 0:\n",
    "                    raise ValueError(\"Код содержит вызов eval()\")\n",
    "    \n",
    "    except SyntaxError as se:\n",
    "        error_message = f\"Код содержит синтаксическую ошибку: {type(se).__name__}\"\n",
    "        return error_message\n",
    "    \n",
    "    except ValueError as ve:\n",
    "        error_message = str(ve)\n",
    "        return error_message\n",
    "    \n",
    "    except Exception as e:\n",
    "        error_message = f\"Код содержит вредоносные элементы: {e}\"\n",
    "        return error_message\n",
    "\n",
    "def run_tests(standard_code, user_code, test_cases, output_file):\n",
    "    output_lines = []\n",
    "    for t in test_cases:\n",
    "        try:\n",
    "            st_result = standard_code.add(*t)\n",
    "            user_code_runtime = multiprocessing.Process(target=user_code.add_numbers, args=[*t])\n",
    "            start_time = time.time() \n",
    "            user_code_runtime.start()\n",
    "            time_limit = 5.0\n",
    "            user_code_runtime.join(timeout=time_limit)\n",
    "            duration = time.time() - start_time\n",
    "\n",
    "            if abs(duration-time_limit) > 1E-9:\n",
    "                output_lines.append('Предупреждение: время выполнения превышает 5 секунд.')\n",
    "                break\n",
    "\n",
    "            us_result = 0\n",
    "            if st_result != us_result:\n",
    "                output_lines.append('Тест не пройден\\n')\n",
    "                output_lines.append(f'Ожидаемый результат: {st_result}\\n')\n",
    "                output_lines.append(f'Результат пользователя: {us_result}\\n')\n",
    "        except Exception as e:\n",
    "            output_lines.append(f'Ошибка при выполнении кода пользователя: {e}\\n')\n",
    "            break\n",
    "    \n",
    "    with open(output_file, 'w', encoding='utf-8') as out_file:\n",
    "        out_file.writelines(output_lines)\n",
    "\n",
    "\n",
    "user_module = importlib.import_module('user_inf')\n",
    "standard_module = importlib.import_module('etalon')\n",
    "test_cases = [(1, 2), (3, 4), (5, 6)]\n",
    "output_file = 'output3.txt'\n",
    "\n",
    "\n",
    "malicious_code_message = check_for_malicious_code(inspect.getsource(user_module), output_file)\n",
    "if malicious_code_message:\n",
    "    with open(output_file, 'w') as f:\n",
    "        f.write(\"Ошибка при проверке модуля user_malicious:\\n\")\n",
    "        f.write(malicious_code_message)\n",
    "else:\n",
    "    run_tests(standard_module, user_module, test_cases, output_file)"
   ]
  },
  {
   "cell_type": "markdown",
   "metadata": {},
   "source": [
    "**Проверка**"
   ]
  },
  {
   "cell_type": "code",
   "execution_count": null,
   "metadata": {},
   "outputs": [],
   "source": [
    "!wget https://gist.github.com/Vs8th/cfcafbd2cd46e8905555b02eae78406e/raw/cor_res_3.txt"
   ]
  },
  {
   "cell_type": "code",
   "execution_count": 36,
   "metadata": {},
   "outputs": [
    {
     "name": "stdout",
     "output_type": "stream",
     "text": [
      "Поздравляем, Вы справились!\n"
     ]
    }
   ],
   "source": [
    "with open('output3.txt', 'r') as file1:\n",
    "    res1 = file1.read()\n",
    "\n",
    "with open('cor_res_3.txt', 'r') as file2:\n",
    "    res2 = file2.read()\n",
    "\n",
    "try:\n",
    "    assert res1 == res2\n",
    "except AssertionError:\n",
    "    print('Ответы не совпадают')\n",
    "else:\n",
    "    print('Поздравляем, Вы справились!')"
   ]
  }
 ],
 "metadata": {
  "kernelspec": {
   "display_name": "stud",
   "language": "python",
   "name": "python3"
  },
  "language_info": {
   "codemirror_mode": {
    "name": "ipython",
    "version": 3
   },
   "file_extension": ".py",
   "mimetype": "text/x-python",
   "name": "python",
   "nbconvert_exporter": "python",
   "pygments_lexer": "ipython3",
   "version": "3.11.11"
  }
 },
 "nbformat": 4,
 "nbformat_minor": 2
}
