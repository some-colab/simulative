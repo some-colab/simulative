{
 "cells": [
  {
   "cell_type": "markdown",
   "metadata": {},
   "source": [
    "**Перед началом решения выполните следующую ячейку**"
   ]
  },
  {
   "cell_type": "code",
   "execution_count": null,
   "metadata": {},
   "outputs": [],
   "source": [
    "!wget https://gist.github.com/Vs8th/a7a7f00e6cdef1b3fe87e4d61ca56e5f/raw/codesubmit.csv"
   ]
  },
  {
   "cell_type": "code",
   "execution_count": 2,
   "metadata": {},
   "outputs": [
    {
     "data": {
      "text/html": [
       "<div>\n",
       "<style scoped>\n",
       "    .dataframe tbody tr th:only-of-type {\n",
       "        vertical-align: middle;\n",
       "    }\n",
       "\n",
       "    .dataframe tbody tr th {\n",
       "        vertical-align: top;\n",
       "    }\n",
       "\n",
       "    .dataframe thead th {\n",
       "        text-align: right;\n",
       "    }\n",
       "</style>\n",
       "<table border=\"1\" class=\"dataframe\">\n",
       "  <thead>\n",
       "    <tr style=\"text-align: right;\">\n",
       "      <th></th>\n",
       "      <th>created_at</th>\n",
       "      <th>user_id</th>\n",
       "      <th>problem_id</th>\n",
       "      <th>is_correct</th>\n",
       "      <th>type</th>\n",
       "    </tr>\n",
       "  </thead>\n",
       "  <tbody>\n",
       "    <tr>\n",
       "      <th>0</th>\n",
       "      <td>2023-04-30 13:47:14.344471</td>\n",
       "      <td>7</td>\n",
       "      <td>870</td>\n",
       "      <td>1.0</td>\n",
       "      <td>submit</td>\n",
       "    </tr>\n",
       "    <tr>\n",
       "      <th>1</th>\n",
       "      <td>2023-04-30 13:46:15.949925</td>\n",
       "      <td>7</td>\n",
       "      <td>870</td>\n",
       "      <td>0.0</td>\n",
       "      <td>submit</td>\n",
       "    </tr>\n",
       "    <tr>\n",
       "      <th>2</th>\n",
       "      <td>2023-04-30 16:13:26.005286</td>\n",
       "      <td>173</td>\n",
       "      <td>21</td>\n",
       "      <td>1.0</td>\n",
       "      <td>submit</td>\n",
       "    </tr>\n",
       "    <tr>\n",
       "      <th>3</th>\n",
       "      <td>2023-04-30 16:13:06.739782</td>\n",
       "      <td>173</td>\n",
       "      <td>21</td>\n",
       "      <td>NaN</td>\n",
       "      <td>run</td>\n",
       "    </tr>\n",
       "    <tr>\n",
       "      <th>4</th>\n",
       "      <td>2023-04-30 15:52:00.195532</td>\n",
       "      <td>173</td>\n",
       "      <td>25</td>\n",
       "      <td>1.0</td>\n",
       "      <td>submit</td>\n",
       "    </tr>\n",
       "    <tr>\n",
       "      <th>...</th>\n",
       "      <td>...</td>\n",
       "      <td>...</td>\n",
       "      <td>...</td>\n",
       "      <td>...</td>\n",
       "      <td>...</td>\n",
       "    </tr>\n",
       "    <tr>\n",
       "      <th>4994</th>\n",
       "      <td>2023-04-30 21:52:00.269123</td>\n",
       "      <td>13493</td>\n",
       "      <td>435</td>\n",
       "      <td>NaN</td>\n",
       "      <td>run</td>\n",
       "    </tr>\n",
       "    <tr>\n",
       "      <th>4995</th>\n",
       "      <td>2023-04-30 21:51:01.094234</td>\n",
       "      <td>13493</td>\n",
       "      <td>435</td>\n",
       "      <td>1.0</td>\n",
       "      <td>submit</td>\n",
       "    </tr>\n",
       "    <tr>\n",
       "      <th>4996</th>\n",
       "      <td>2023-04-30 21:50:52.059690</td>\n",
       "      <td>13493</td>\n",
       "      <td>435</td>\n",
       "      <td>NaN</td>\n",
       "      <td>run</td>\n",
       "    </tr>\n",
       "    <tr>\n",
       "      <th>4997</th>\n",
       "      <td>2023-04-30 21:42:24.323689</td>\n",
       "      <td>13493</td>\n",
       "      <td>1086</td>\n",
       "      <td>NaN</td>\n",
       "      <td>run</td>\n",
       "    </tr>\n",
       "    <tr>\n",
       "      <th>4998</th>\n",
       "      <td>2023-04-30 21:36:13.783309</td>\n",
       "      <td>13493</td>\n",
       "      <td>1086</td>\n",
       "      <td>NaN</td>\n",
       "      <td>run</td>\n",
       "    </tr>\n",
       "  </tbody>\n",
       "</table>\n",
       "<p>4999 rows × 5 columns</p>\n",
       "</div>"
      ],
      "text/plain": [
       "                      created_at  user_id  problem_id  is_correct    type\n",
       "0     2023-04-30 13:47:14.344471        7         870         1.0  submit\n",
       "1     2023-04-30 13:46:15.949925        7         870         0.0  submit\n",
       "2     2023-04-30 16:13:26.005286      173          21         1.0  submit\n",
       "3     2023-04-30 16:13:06.739782      173          21         NaN     run\n",
       "4     2023-04-30 15:52:00.195532      173          25         1.0  submit\n",
       "...                          ...      ...         ...         ...     ...\n",
       "4994  2023-04-30 21:52:00.269123    13493         435         NaN     run\n",
       "4995  2023-04-30 21:51:01.094234    13493         435         1.0  submit\n",
       "4996  2023-04-30 21:50:52.059690    13493         435         NaN     run\n",
       "4997  2023-04-30 21:42:24.323689    13493        1086         NaN     run\n",
       "4998  2023-04-30 21:36:13.783309    13493        1086         NaN     run\n",
       "\n",
       "[4999 rows x 5 columns]"
      ]
     },
     "execution_count": 2,
     "metadata": {},
     "output_type": "execute_result"
    }
   ],
   "source": [
    "import pandas as pd\n",
    "\n",
    "df = pd.read_csv('codesubmit.csv', sep = ';')\n",
    "df"
   ]
  },
  {
   "cell_type": "markdown",
   "metadata": {},
   "source": [
    "## Задача 1"
   ]
  },
  {
   "cell_type": "code",
   "execution_count": 3,
   "metadata": {},
   "outputs": [],
   "source": [
    "res = 61.86"
   ]
  },
  {
   "cell_type": "markdown",
   "metadata": {},
   "source": [
    "**Проверка**"
   ]
  },
  {
   "cell_type": "code",
   "execution_count": 4,
   "metadata": {},
   "outputs": [
    {
     "name": "stdout",
     "output_type": "stream",
     "text": [
      "Ответы не совпадают\n"
     ]
    }
   ],
   "source": [
    "try:\n",
    "    assert res == 611.86\n",
    "except AssertionError:\n",
    "    print('Ответы не совпадают')\n",
    "else:\n",
    "    print('Поздравляем, Вы справились!')"
   ]
  }
 ],
 "metadata": {
  "kernelspec": {
   "display_name": "stud",
   "language": "python",
   "name": "python3"
  },
  "language_info": {
   "codemirror_mode": {
    "name": "ipython",
    "version": 3
   },
   "file_extension": ".py",
   "mimetype": "text/x-python",
   "name": "python",
   "nbconvert_exporter": "python",
   "pygments_lexer": "ipython3",
   "version": "3.11.11"
  }
 },
 "nbformat": 4,
 "nbformat_minor": 2
}
